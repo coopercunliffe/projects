{
 "cells": [
  {
   "cell_type": "code",
   "execution_count": 22,
   "metadata": {},
   "outputs": [],
   "source": [
    "import pandas as pd\n",
    "import seaborn as sns"
   ]
  },
  {
   "cell_type": "code",
   "execution_count": 2,
   "metadata": {},
   "outputs": [],
   "source": [
    "df = pd.read_csv('top500.csv')"
   ]
  },
  {
   "cell_type": "code",
   "execution_count": 34,
   "metadata": {},
   "outputs": [
    {
     "data": {
      "text/html": [
       "<div>\n",
       "<style scoped>\n",
       "    .dataframe tbody tr th:only-of-type {\n",
       "        vertical-align: middle;\n",
       "    }\n",
       "\n",
       "    .dataframe tbody tr th {\n",
       "        vertical-align: top;\n",
       "    }\n",
       "\n",
       "    .dataframe thead th {\n",
       "        text-align: right;\n",
       "    }\n",
       "</style>\n",
       "<table border=\"1\" class=\"dataframe\">\n",
       "  <thead>\n",
       "    <tr style=\"text-align: right;\">\n",
       "      <th></th>\n",
       "      <th>id_</th>\n",
       "      <th>assists</th>\n",
       "      <th>bonus</th>\n",
       "      <th>bps</th>\n",
       "      <th>chance_of_playing_next_round</th>\n",
       "      <th>chance_of_playing_this_round</th>\n",
       "      <th>clean_sheets</th>\n",
       "      <th>code</th>\n",
       "      <th>cost_change_event</th>\n",
       "      <th>cost_change_event_fall</th>\n",
       "      <th>...</th>\n",
       "      <th>threat</th>\n",
       "      <th>total_points</th>\n",
       "      <th>transfers_in</th>\n",
       "      <th>transfers_in_event</th>\n",
       "      <th>transfers_out</th>\n",
       "      <th>transfers_out_event</th>\n",
       "      <th>value_form</th>\n",
       "      <th>value_season</th>\n",
       "      <th>web_name</th>\n",
       "      <th>yellow_cards</th>\n",
       "    </tr>\n",
       "  </thead>\n",
       "  <tbody>\n",
       "    <tr>\n",
       "      <th>0</th>\n",
       "      <td>166</td>\n",
       "      <td>3</td>\n",
       "      <td>16</td>\n",
       "      <td>325</td>\n",
       "      <td>NaN</td>\n",
       "      <td>NaN</td>\n",
       "      <td>5</td>\n",
       "      <td>101668</td>\n",
       "      <td>2</td>\n",
       "      <td>-2</td>\n",
       "      <td>...</td>\n",
       "      <td>411.0</td>\n",
       "      <td>92</td>\n",
       "      <td>2261498</td>\n",
       "      <td>335444</td>\n",
       "      <td>566360</td>\n",
       "      <td>3527</td>\n",
       "      <td>1.2</td>\n",
       "      <td>9.7</td>\n",
       "      <td>Vardy</td>\n",
       "      <td>1</td>\n",
       "    </tr>\n",
       "    <tr>\n",
       "      <th>1</th>\n",
       "      <td>192</td>\n",
       "      <td>4</td>\n",
       "      <td>11</td>\n",
       "      <td>235</td>\n",
       "      <td>100.0</td>\n",
       "      <td>100.0</td>\n",
       "      <td>3</td>\n",
       "      <td>110979</td>\n",
       "      <td>1</td>\n",
       "      <td>-1</td>\n",
       "      <td>...</td>\n",
       "      <td>403.0</td>\n",
       "      <td>83</td>\n",
       "      <td>2135666</td>\n",
       "      <td>116290</td>\n",
       "      <td>770571</td>\n",
       "      <td>9405</td>\n",
       "      <td>0.5</td>\n",
       "      <td>6.9</td>\n",
       "      <td>Mané</td>\n",
       "      <td>1</td>\n",
       "    </tr>\n",
       "    <tr>\n",
       "      <th>2</th>\n",
       "      <td>460</td>\n",
       "      <td>2</td>\n",
       "      <td>16</td>\n",
       "      <td>277</td>\n",
       "      <td>100.0</td>\n",
       "      <td>100.0</td>\n",
       "      <td>4</td>\n",
       "      <td>173879</td>\n",
       "      <td>1</td>\n",
       "      <td>-1</td>\n",
       "      <td>...</td>\n",
       "      <td>501.0</td>\n",
       "      <td>81</td>\n",
       "      <td>3707298</td>\n",
       "      <td>113013</td>\n",
       "      <td>545946</td>\n",
       "      <td>25529</td>\n",
       "      <td>0.9</td>\n",
       "      <td>10.3</td>\n",
       "      <td>Abraham</td>\n",
       "      <td>2</td>\n",
       "    </tr>\n",
       "    <tr>\n",
       "      <th>3</th>\n",
       "      <td>215</td>\n",
       "      <td>10</td>\n",
       "      <td>10</td>\n",
       "      <td>317</td>\n",
       "      <td>100.0</td>\n",
       "      <td>100.0</td>\n",
       "      <td>5</td>\n",
       "      <td>61366</td>\n",
       "      <td>0</td>\n",
       "      <td>0</td>\n",
       "      <td>...</td>\n",
       "      <td>291.0</td>\n",
       "      <td>76</td>\n",
       "      <td>2995372</td>\n",
       "      <td>38829</td>\n",
       "      <td>1527264</td>\n",
       "      <td>62285</td>\n",
       "      <td>0.3</td>\n",
       "      <td>7.5</td>\n",
       "      <td>De Bruyne</td>\n",
       "      <td>0</td>\n",
       "    </tr>\n",
       "    <tr>\n",
       "      <th>4</th>\n",
       "      <td>191</td>\n",
       "      <td>3</td>\n",
       "      <td>8</td>\n",
       "      <td>204</td>\n",
       "      <td>75.0</td>\n",
       "      <td>100.0</td>\n",
       "      <td>3</td>\n",
       "      <td>118748</td>\n",
       "      <td>0</td>\n",
       "      <td>0</td>\n",
       "      <td>...</td>\n",
       "      <td>640.0</td>\n",
       "      <td>72</td>\n",
       "      <td>951075</td>\n",
       "      <td>30472</td>\n",
       "      <td>1984293</td>\n",
       "      <td>49077</td>\n",
       "      <td>0.3</td>\n",
       "      <td>5.9</td>\n",
       "      <td>Salah</td>\n",
       "      <td>0</td>\n",
       "    </tr>\n",
       "  </tbody>\n",
       "</table>\n",
       "<p>5 rows × 53 columns</p>\n",
       "</div>"
      ],
      "text/plain": [
       "   id_  assists  bonus  bps  chance_of_playing_next_round  \\\n",
       "0  166        3     16  325                           NaN   \n",
       "1  192        4     11  235                         100.0   \n",
       "2  460        2     16  277                         100.0   \n",
       "3  215       10     10  317                         100.0   \n",
       "4  191        3      8  204                          75.0   \n",
       "\n",
       "   chance_of_playing_this_round  clean_sheets    code  cost_change_event  \\\n",
       "0                           NaN             5  101668                  2   \n",
       "1                         100.0             3  110979                  1   \n",
       "2                         100.0             4  173879                  1   \n",
       "3                         100.0             5   61366                  0   \n",
       "4                         100.0             3  118748                  0   \n",
       "\n",
       "   cost_change_event_fall  ...  threat  total_points  transfers_in  \\\n",
       "0                      -2  ...   411.0            92       2261498   \n",
       "1                      -1  ...   403.0            83       2135666   \n",
       "2                      -1  ...   501.0            81       3707298   \n",
       "3                       0  ...   291.0            76       2995372   \n",
       "4                       0  ...   640.0            72        951075   \n",
       "\n",
       "   transfers_in_event  transfers_out  transfers_out_event  value_form  \\\n",
       "0              335444         566360                 3527         1.2   \n",
       "1              116290         770571                 9405         0.5   \n",
       "2              113013         545946                25529         0.9   \n",
       "3               38829        1527264                62285         0.3   \n",
       "4               30472        1984293                49077         0.3   \n",
       "\n",
       "   value_season   web_name  yellow_cards  \n",
       "0           9.7      Vardy             1  \n",
       "1           6.9       Mané             1  \n",
       "2          10.3    Abraham             2  \n",
       "3           7.5  De Bruyne             0  \n",
       "4           5.9      Salah             0  \n",
       "\n",
       "[5 rows x 53 columns]"
      ]
     },
     "execution_count": 34,
     "metadata": {},
     "output_type": "execute_result"
    }
   ],
   "source": [
    "df.head()"
   ]
  },
  {
   "cell_type": "code",
   "execution_count": 13,
   "metadata": {},
   "outputs": [
    {
     "data": {
      "text/plain": [
       "Index(['id_', 'assists', 'bonus', 'bps', 'chance_of_playing_next_round',\n",
       "       'chance_of_playing_this_round', 'clean_sheets', 'code',\n",
       "       'cost_change_event', 'cost_change_event_fall', 'cost_change_start',\n",
       "       'cost_change_start_fall', 'creativity', 'dreamteam_count',\n",
       "       'element_type', 'ep_next', 'ep_this', 'event_points', 'first_name',\n",
       "       'form', 'goals_conceded', 'goals_scored', 'ict_index', 'in_dreamteam',\n",
       "       'influence', 'minutes', 'news', 'news_added', 'now_cost', 'own_goals',\n",
       "       'penalties_missed', 'penalties_saved', 'photo', 'points_per_game',\n",
       "       'red_cards', 'saves', 'second_name', 'selected_by_percent', 'special',\n",
       "       'squad_number', 'status', 'team', 'team_code', 'threat', 'total_points',\n",
       "       'transfers_in', 'transfers_in_event', 'transfers_out',\n",
       "       'transfers_out_event', 'value_form', 'value_season', 'web_name',\n",
       "       'yellow_cards'],\n",
       "      dtype='object')"
      ]
     },
     "execution_count": 13,
     "metadata": {},
     "output_type": "execute_result"
    }
   ],
   "source": [
    "df.columns"
   ]
  },
  {
   "cell_type": "code",
   "execution_count": 35,
   "metadata": {},
   "outputs": [
    {
     "data": {
      "text/plain": [
       "<matplotlib.axes._subplots.AxesSubplot at 0x15e06512550>"
      ]
     },
     "execution_count": 35,
     "metadata": {},
     "output_type": "execute_result"
    },
    {
     "data": {
      "image/png": "[encoded data removed]",
      "text/plain": [
       "<Figure size 432x288 with 1 Axes>"
      ]
     },
     "metadata": {
      "needs_background": "light"
     },
     "output_type": "display_data"
    }
   ],
   "source": [
    "sns.scatterplot(x='assists', y='total_points', hue='element_type', data=df)"
   ]
  },
  {
   "cell_type": "code",
   "execution_count": 40,
   "metadata": {},
   "outputs": [
    {
     "data": {
      "text/html": [
       "<div>\n",
       "<style scoped>\n",
       "    .dataframe tbody tr th:only-of-type {\n",
       "        vertical-align: middle;\n",
       "    }\n",
       "\n",
       "    .dataframe tbody tr th {\n",
       "        vertical-align: top;\n",
       "    }\n",
       "\n",
       "    .dataframe thead th {\n",
       "        text-align: right;\n",
       "    }\n",
       "</style>\n",
       "<table border=\"1\" class=\"dataframe\">\n",
       "  <thead>\n",
       "    <tr style=\"text-align: right;\">\n",
       "      <th></th>\n",
       "      <th>id_</th>\n",
       "      <th>assists</th>\n",
       "      <th>goals_scored</th>\n",
       "      <th>web_name</th>\n",
       "      <th>team</th>\n",
       "    </tr>\n",
       "  </thead>\n",
       "  <tbody>\n",
       "    <tr>\n",
       "      <th>0</th>\n",
       "      <td>166</td>\n",
       "      <td>3</td>\n",
       "      <td>11</td>\n",
       "      <td>Vardy</td>\n",
       "      <td>9</td>\n",
       "    </tr>\n",
       "    <tr>\n",
       "      <th>2</th>\n",
       "      <td>460</td>\n",
       "      <td>2</td>\n",
       "      <td>10</td>\n",
       "      <td>Abraham</td>\n",
       "      <td>6</td>\n",
       "    </tr>\n",
       "    <tr>\n",
       "      <th>5</th>\n",
       "      <td>210</td>\n",
       "      <td>3</td>\n",
       "      <td>9</td>\n",
       "      <td>Agüero</td>\n",
       "      <td>11</td>\n",
       "    </tr>\n",
       "    <tr>\n",
       "      <th>7</th>\n",
       "      <td>11</td>\n",
       "      <td>1</td>\n",
       "      <td>8</td>\n",
       "      <td>Aubameyang</td>\n",
       "      <td>1</td>\n",
       "    </tr>\n",
       "    <tr>\n",
       "      <th>8</th>\n",
       "      <td>214</td>\n",
       "      <td>1</td>\n",
       "      <td>7</td>\n",
       "      <td>Sterling</td>\n",
       "      <td>11</td>\n",
       "    </tr>\n",
       "  </tbody>\n",
       "</table>\n",
       "</div>"
      ],
      "text/plain": [
       "   id_  assists  goals_scored    web_name  team\n",
       "0  166        3            11       Vardy     9\n",
       "2  460        2            10     Abraham     6\n",
       "5  210        3             9      Agüero    11\n",
       "7   11        1             8  Aubameyang     1\n",
       "8  214        1             7    Sterling    11"
      ]
     },
     "execution_count": 40,
     "metadata": {},
     "output_type": "execute_result"
    }
   ],
   "source": [
    "df_small.sort_values('goals_scored', ascending=False).head()"
   ]
  },
  {
   "cell_type": "code",
   "execution_count": 42,
   "metadata": {},
   "outputs": [
    {
     "data": {
      "text/html": [
       "<div>\n",
       "<style scoped>\n",
       "    .dataframe tbody tr th:only-of-type {\n",
       "        vertical-align: middle;\n",
       "    }\n",
       "\n",
       "    .dataframe tbody tr th {\n",
       "        vertical-align: top;\n",
       "    }\n",
       "\n",
       "    .dataframe thead th {\n",
       "        text-align: right;\n",
       "    }\n",
       "</style>\n",
       "<table border=\"1\" class=\"dataframe\">\n",
       "  <thead>\n",
       "    <tr style=\"text-align: right;\">\n",
       "      <th></th>\n",
       "      <th>id_</th>\n",
       "      <th>assists</th>\n",
       "      <th>goals_scored</th>\n",
       "      <th>web_name</th>\n",
       "      <th>team</th>\n",
       "    </tr>\n",
       "  </thead>\n",
       "  <tbody>\n",
       "    <tr>\n",
       "      <th>0</th>\n",
       "      <td>166</td>\n",
       "      <td>3</td>\n",
       "      <td>11</td>\n",
       "      <td>Vardy</td>\n",
       "      <td>9</td>\n",
       "    </tr>\n",
       "    <tr>\n",
       "      <th>1</th>\n",
       "      <td>192</td>\n",
       "      <td>4</td>\n",
       "      <td>7</td>\n",
       "      <td>Mané</td>\n",
       "      <td>10</td>\n",
       "    </tr>\n",
       "    <tr>\n",
       "      <th>2</th>\n",
       "      <td>460</td>\n",
       "      <td>2</td>\n",
       "      <td>10</td>\n",
       "      <td>Abraham</td>\n",
       "      <td>6</td>\n",
       "    </tr>\n",
       "    <tr>\n",
       "      <th>3</th>\n",
       "      <td>215</td>\n",
       "      <td>10</td>\n",
       "      <td>2</td>\n",
       "      <td>De Bruyne</td>\n",
       "      <td>11</td>\n",
       "    </tr>\n",
       "    <tr>\n",
       "      <th>4</th>\n",
       "      <td>191</td>\n",
       "      <td>3</td>\n",
       "      <td>6</td>\n",
       "      <td>Salah</td>\n",
       "      <td>10</td>\n",
       "    </tr>\n",
       "  </tbody>\n",
       "</table>\n",
       "</div>"
      ],
      "text/plain": [
       "   id_  assists  goals_scored   web_name  team\n",
       "0  166        3            11      Vardy     9\n",
       "1  192        4             7       Mané    10\n",
       "2  460        2            10    Abraham     6\n",
       "3  215       10             2  De Bruyne    11\n",
       "4  191        3             6      Salah    10"
      ]
     },
     "execution_count": 42,
     "metadata": {},
     "output_type": "execute_result"
    }
   ],
   "source": [
    "df_small.head()"
   ]
  },
  {
   "cell_type": "code",
   "execution_count": 1,
   "metadata": {},
   "outputs": [
    {
     "name": "stdout",
     "output_type": "stream",
     "text": [
      "20.3 ns ± 1.97 ns per loop (mean ± std. dev. of 7 runs, 10000000 loops each)\n"
     ]
    }
   ],
   "source": [
    "%timeit pass"
   ]
  },
  {
   "cell_type": "code",
   "execution_count": null,
   "metadata": {},
   "outputs": [],
   "source": [
    "%%time\n",
    "\n",
    "a = range(1000)\n",
    "\n",
    "b = 0\n",
    "for i in a:\n",
    "    for j in a:\n",
    "        for k in a:\n",
    "            b = b+1\n",
    "            \n",
    "print(b)"
   ]
  },
  {
   "cell_type": "code",
   "execution_count": null,
   "metadata": {},
   "outputs": [],
   "source": []
  },
  {
   "cell_type": "code",
   "execution_count": null,
   "metadata": {},
   "outputs": [],
   "source": []
  },
  {
   "cell_type": "code",
   "execution_count": null,
   "metadata": {},
   "outputs": [],
   "source": []
  },
  {
   "cell_type": "code",
   "execution_count": null,
   "metadata": {},
   "outputs": [],
   "source": []
  },
  {
   "cell_type": "code",
   "execution_count": null,
   "metadata": {},
   "outputs": [],
   "source": []
  },
  {
   "cell_type": "code",
   "execution_count": null,
   "metadata": {},
   "outputs": [],
   "source": []
  },
  {
   "cell_type": "code",
   "execution_count": null,
   "metadata": {},
   "outputs": [],
   "source": []
  },
  {
   "cell_type": "code",
   "execution_count": null,
   "metadata": {},
   "outputs": [],
   "source": []
  }
 ],
 "metadata": {
  "kernelspec": {
   "display_name": "Python 3",
   "language": "python",
   "name": "python3"
  },
  "language_info": {
   "codemirror_mode": {
    "name": "ipython",
    "version": 3
   },
   "file_extension": ".py",
   "mimetype": "text/x-python",
   "name": "python",
   "nbconvert_exporter": "python",
   "pygments_lexer": "ipython3",
   "version": "3.7.3"
  }
 },
 "nbformat": 4,
 "nbformat_minor": 2
}
