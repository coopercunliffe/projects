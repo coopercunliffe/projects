{
 "cells": [
  {
   "cell_type": "code",
   "execution_count": 38,
   "metadata": {},
   "outputs": [],
   "source": [
    "# data types\n",
    "\n",
    "my_integer = 3\n",
    "\n",
    "my_float = 4.0\n",
    "\n",
    "my_string1 = 'Mr Cooper'\n",
    "\n",
    "my_string2 = ' is awesome.'\n",
    "\n",
    "my_list = [1, 3.2, 'hello', [5, 6]]\n",
    "\n",
    "mr_cooper_list = ['blue', 19, 67]\n",
    "\n",
    "mr_cooper_dictionary = {'color':'blue', 'age':19, 'height': 67}\n",
    "\n",
    "\n"
   ]
  },
  {
   "cell_type": "code",
   "execution_count": 57,
   "metadata": {},
   "outputs": [
    {
     "name": "stdout",
     "output_type": "stream",
     "text": [
      "<class 'list'>\n",
      "['OJ', 'Alex', 'Anna', 'Max', 'Logan', 'Jack', 'Blake', 'Robin']\n"
     ]
    }
   ],
   "source": [
    "# loops\n",
    "\n",
    "students = []\n",
    "\n",
    "print(type(students))\n",
    "\n",
    "students.append('OJ')\n",
    "\n",
    "students.append('Alex')\n",
    "\n",
    "other_students = ['Anna', 'Max', 'Logan', 'Jack','Blake', 'Robin']\n",
    "\n",
    "\n",
    "\n",
    "students = students + other_students\n",
    "\n",
    "print(students)"
   ]
  },
  {
   "cell_type": "code",
   "execution_count": 58,
   "metadata": {},
   "outputs": [
    {
     "name": "stdout",
     "output_type": "stream",
     "text": [
      "['OJ', 'Alex', 'Anna', 'Max', 'Logan', 'Jack', 'Blake', 'Robin']\n"
     ]
    }
   ],
   "source": [
    "print(students)"
   ]
  },
  {
   "cell_type": "code",
   "execution_count": 74,
   "metadata": {},
   "outputs": [
    {
     "name": "stdout",
     "output_type": "stream",
     "text": [
      "['C', 'O', 'O', 'P', 'E', 'R']\n",
      "['C', 'O', 'O', 'P', 'E']\n"
     ]
    }
   ],
   "source": [
    "letter_list = []\n",
    "\n",
    "for letter in 'COOPER':\n",
    "    letter_list.append(letter)\n",
    "    \n",
    "print(letter_list)\n",
    "    \n",
    "    \n",
    "del letter_list[5]\n",
    "\n",
    "print(letter_list)\n",
    "    \n",
    "    "
   ]
  },
  {
   "cell_type": "code",
   "execution_count": 81,
   "metadata": {},
   "outputs": [
    {
     "name": "stdout",
     "output_type": "stream",
     "text": [
      "1\n",
      "4\n",
      "9\n",
      "16\n",
      "25\n",
      "36\n",
      "49\n",
      "64\n",
      "81\n",
      "100\n",
      "121\n",
      "144\n",
      "169\n",
      "196\n",
      "225\n"
     ]
    }
   ],
   "source": [
    "# use a for loop to make a list of the first 15 perfect squares\n",
    "\n",
    "square_list = []\n",
    "\n",
    "\n",
    "for i in range(15):\n",
    "    print((i+1)**2)\n",
    "\n",
    "\n",
    "\n",
    "\n",
    "\n",
    "\n",
    "\n"
   ]
  },
  {
   "cell_type": "code",
   "execution_count": 4,
   "metadata": {},
   "outputs": [
    {
     "name": "stdout",
     "output_type": "stream",
     "text": [
      "Not Weird\n"
     ]
    }
   ],
   "source": [
    "n = 22\n",
    "\n",
    "if n % 2 == 1:\n",
    "    print(\"Weird\")\n",
    "elif n % 2 == 0 and n in [2, 3, 4, 5]:\n",
    "    print(\"Not Weird\")\n",
    "elif n % 2 == 0 and n in [6,7,8,9,10,11,12,13,14,15,16,17,18,19,20]:\n",
    "    print(\"Weird\")\n",
    "else:\n",
    "    print(\"Not Weird\")\n",
    "\n",
    "\n",
    "\n",
    "\n",
    "\n",
    "\n",
    "\n",
    "\n",
    "\n",
    "\n",
    "\n",
    "\n"
   ]
  },
  {
   "cell_type": "code",
   "execution_count": null,
   "metadata": {},
   "outputs": [],
   "source": []
  },
  {
   "cell_type": "code",
   "execution_count": null,
   "metadata": {},
   "outputs": [],
   "source": []
  },
  {
   "cell_type": "code",
   "execution_count": null,
   "metadata": {},
   "outputs": [],
   "source": []
  },
  {
   "cell_type": "code",
   "execution_count": null,
   "metadata": {},
   "outputs": [],
   "source": []
  },
  {
   "cell_type": "code",
   "execution_count": null,
   "metadata": {},
   "outputs": [],
   "source": []
  }
 ],
 "metadata": {
  "kernelspec": {
   "display_name": "Python 3",
   "language": "python",
   "name": "python3"
  },
  "language_info": {
   "codemirror_mode": {
    "name": "ipython",
    "version": 3
   },
   "file_extension": ".py",
   "mimetype": "text/x-python",
   "name": "python",
   "nbconvert_exporter": "python",
   "pygments_lexer": "ipython3",
   "version": "3.7.3"
  }
 },
 "nbformat": 4,
 "nbformat_minor": 2
}
