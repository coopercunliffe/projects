{
 "cells": [
  {
   "cell_type": "code",
   "execution_count": 18,
   "metadata": {},
   "outputs": [],
   "source": [
    "import pandas as pd\n",
    "import numpy as np\n",
    "import seaborn as sns\n",
    "import matplotlib.pyplot as plt\n",
    "import plotly.figure_factory as ff"
   ]
  },
  {
   "cell_type": "code",
   "execution_count": 134,
   "metadata": {},
   "outputs": [
    {
     "data": {
      "text/html": [
       "<div>\n",
       "<style scoped>\n",
       "    .dataframe tbody tr th:only-of-type {\n",
       "        vertical-align: middle;\n",
       "    }\n",
       "\n",
       "    .dataframe tbody tr th {\n",
       "        vertical-align: top;\n",
       "    }\n",
       "\n",
       "    .dataframe thead th {\n",
       "        text-align: right;\n",
       "    }\n",
       "</style>\n",
       "<table border=\"1\" class=\"dataframe\">\n",
       "  <thead>\n",
       "    <tr style=\"text-align: right;\">\n",
       "      <th></th>\n",
       "      <th>code</th>\n",
       "      <th>country</th>\n",
       "      <th>mcp</th>\n",
       "      <th>start</th>\n",
       "      <th>end</th>\n",
       "      <th>years</th>\n",
       "      <th>mcp_start</th>\n",
       "      <th>mcp_end</th>\n",
       "    </tr>\n",
       "  </thead>\n",
       "  <tbody>\n",
       "    <tr>\n",
       "      <th>0</th>\n",
       "      <td>AFG</td>\n",
       "      <td>Afghanistan</td>\n",
       "      <td>UK</td>\n",
       "      <td>1880</td>\n",
       "      <td>1919</td>\n",
       "      <td>39</td>\n",
       "      <td>UK</td>\n",
       "      <td>UK</td>\n",
       "    </tr>\n",
       "    <tr>\n",
       "      <th>1</th>\n",
       "      <td>DZA</td>\n",
       "      <td>Algeria</td>\n",
       "      <td>F</td>\n",
       "      <td>1830</td>\n",
       "      <td>1962</td>\n",
       "      <td>132</td>\n",
       "      <td>F</td>\n",
       "      <td>F</td>\n",
       "    </tr>\n",
       "    <tr>\n",
       "      <th>2</th>\n",
       "      <td>AGO</td>\n",
       "      <td>Angola</td>\n",
       "      <td>p</td>\n",
       "      <td>1573</td>\n",
       "      <td>1975</td>\n",
       "      <td>402</td>\n",
       "      <td>P</td>\n",
       "      <td>p</td>\n",
       "    </tr>\n",
       "    <tr>\n",
       "      <th>3</th>\n",
       "      <td>BHR</td>\n",
       "      <td>Bahrain</td>\n",
       "      <td>UK</td>\n",
       "      <td>1860</td>\n",
       "      <td>1971</td>\n",
       "      <td>111</td>\n",
       "      <td>UK</td>\n",
       "      <td>UK</td>\n",
       "    </tr>\n",
       "    <tr>\n",
       "      <th>4</th>\n",
       "      <td>BGD</td>\n",
       "      <td>Bangladesh</td>\n",
       "      <td>UK</td>\n",
       "      <td>1757</td>\n",
       "      <td>1947</td>\n",
       "      <td>190</td>\n",
       "      <td>UK</td>\n",
       "      <td>UK</td>\n",
       "    </tr>\n",
       "  </tbody>\n",
       "</table>\n",
       "</div>"
      ],
      "text/plain": [
       "  code      country mcp  start   end  years mcp_start mcp_end\n",
       "0  AFG  Afghanistan  UK   1880  1919     39        UK      UK\n",
       "1  DZA      Algeria   F   1830  1962    132         F       F\n",
       "2  AGO       Angola   p   1573  1975    402         P       p\n",
       "3  BHR      Bahrain  UK   1860  1971    111        UK      UK\n",
       "4  BGD   Bangladesh  UK   1757  1947    190        UK      UK"
      ]
     },
     "execution_count": 134,
     "metadata": {},
     "output_type": "execute_result"
    }
   ],
   "source": [
    "df = pd.read_csv('colonial_data.csv')\n",
    "df.head()"
   ]
  },
  {
   "cell_type": "code",
   "execution_count": 24,
   "metadata": {},
   "outputs": [],
   "source": [
    "# sns.barplot(x=\"country\", y=\"years\", hue='mcp_start', data=df)"
   ]
  },
  {
   "cell_type": "code",
   "execution_count": 135,
   "metadata": {},
   "outputs": [],
   "source": [
    "df = df.replace(to_replace='sernicol.', value='semicol.')"
   ]
  },
  {
   "cell_type": "code",
   "execution_count": 138,
   "metadata": {},
   "outputs": [],
   "source": [
    "df = df.replace(to_replace='Settler', value='settler')"
   ]
  },
  {
   "cell_type": "code",
   "execution_count": 139,
   "metadata": {},
   "outputs": [],
   "source": [
    "df = df.replace(to_replace='GIB', value='G')"
   ]
  },
  {
   "cell_type": "code",
   "execution_count": 143,
   "metadata": {},
   "outputs": [
    {
     "data": {
      "text/plain": [
       "UK          30\n",
       "F           23\n",
       "P           10\n",
       "G            5\n",
       "semicol.     4\n",
       "NL           3\n",
       "JP           2\n",
       "SP           1\n",
       "I            1\n",
       "USA          1\n",
       "B            1\n",
       "settler      1\n",
       "Name: mcp_start, dtype: int64"
      ]
     },
     "execution_count": 143,
     "metadata": {},
     "output_type": "execute_result"
    }
   ],
   "source": [
    "df['mcp_start'].value_counts()"
   ]
  },
  {
   "cell_type": "code",
   "execution_count": 205,
   "metadata": {},
   "outputs": [
    {
     "data": {
      "text/plain": [
       "[(0.1, 0.9, 0.1),\n",
       " (0.2, 0.8, 0.2),\n",
       " (0.3, 0.7, 0.3),\n",
       " (0.4, 0.6, 0.4),\n",
       " (0.5, 0.5, 0.5),\n",
       " (0.6, 0.4, 0.6),\n",
       " (0.7, 0.30000000000000004, 0.7),\n",
       " (0.8, 0.19999999999999996, 0.8),\n",
       " (0.9, 0.09999999999999998, 0.9),\n",
       " (1.0, 0.0, 1.0),\n",
       " (0.25, 0.25, 0.25),\n",
       " (0.75, 0.75, 0.75)]"
      ]
     },
     "execution_count": 205,
     "metadata": {},
     "output_type": "execute_result"
    }
   ],
   "source": [
    "colors = [(i/10, 1-i/10, i/10) for i in range(1,11)]\n",
    "colors.append((.25, .25, .25))\n",
    "colors.append((.75, .75, .75))\n",
    "(colors)"
   ]
  },
  {
   "cell_type": "code",
   "execution_count": 188,
   "metadata": {},
   "outputs": [
    {
     "data": {
      "text/html": [
       "<div>\n",
       "<style scoped>\n",
       "    .dataframe tbody tr th:only-of-type {\n",
       "        vertical-align: middle;\n",
       "    }\n",
       "\n",
       "    .dataframe tbody tr th {\n",
       "        vertical-align: top;\n",
       "    }\n",
       "\n",
       "    .dataframe thead th {\n",
       "        text-align: right;\n",
       "    }\n",
       "</style>\n",
       "<table border=\"1\" class=\"dataframe\">\n",
       "  <thead>\n",
       "    <tr style=\"text-align: right;\">\n",
       "      <th></th>\n",
       "      <th>Task</th>\n",
       "      <th>Start</th>\n",
       "      <th>Finish</th>\n",
       "    </tr>\n",
       "  </thead>\n",
       "  <tbody>\n",
       "    <tr>\n",
       "      <th>0</th>\n",
       "      <td>Afghanistan</td>\n",
       "      <td>1880</td>\n",
       "      <td>1919</td>\n",
       "    </tr>\n",
       "    <tr>\n",
       "      <th>3</th>\n",
       "      <td>Bahrain</td>\n",
       "      <td>1860</td>\n",
       "      <td>1971</td>\n",
       "    </tr>\n",
       "    <tr>\n",
       "      <th>4</th>\n",
       "      <td>Bangladesh</td>\n",
       "      <td>1757</td>\n",
       "      <td>1947</td>\n",
       "    </tr>\n",
       "    <tr>\n",
       "      <th>6</th>\n",
       "      <td>Bhutan</td>\n",
       "      <td>1866</td>\n",
       "      <td>1949</td>\n",
       "    </tr>\n",
       "    <tr>\n",
       "      <th>7</th>\n",
       "      <td>Botswana</td>\n",
       "      <td>1885</td>\n",
       "      <td>1966</td>\n",
       "    </tr>\n",
       "    <tr>\n",
       "      <th>18</th>\n",
       "      <td>Ethiopia</td>\n",
       "      <td>1908</td>\n",
       "      <td>1954</td>\n",
       "    </tr>\n",
       "    <tr>\n",
       "      <th>19</th>\n",
       "      <td>Fiji</td>\n",
       "      <td>1874</td>\n",
       "      <td>1970</td>\n",
       "    </tr>\n",
       "    <tr>\n",
       "      <th>21</th>\n",
       "      <td>Gambia</td>\n",
       "      <td>1816</td>\n",
       "      <td>1965</td>\n",
       "    </tr>\n",
       "    <tr>\n",
       "      <th>22</th>\n",
       "      <td>Ghana</td>\n",
       "      <td>1756</td>\n",
       "      <td>1957</td>\n",
       "    </tr>\n",
       "    <tr>\n",
       "      <th>25</th>\n",
       "      <td>India</td>\n",
       "      <td>1757</td>\n",
       "      <td>1947</td>\n",
       "    </tr>\n",
       "    <tr>\n",
       "      <th>27</th>\n",
       "      <td>Iran</td>\n",
       "      <td>1828</td>\n",
       "      <td>1921</td>\n",
       "    </tr>\n",
       "    <tr>\n",
       "      <th>28</th>\n",
       "      <td>Iraq</td>\n",
       "      <td>1914</td>\n",
       "      <td>1958</td>\n",
       "    </tr>\n",
       "    <tr>\n",
       "      <th>31</th>\n",
       "      <td>Jordan</td>\n",
       "      <td>1918</td>\n",
       "      <td>1956</td>\n",
       "    </tr>\n",
       "    <tr>\n",
       "      <th>36</th>\n",
       "      <td>Kuwait</td>\n",
       "      <td>1899</td>\n",
       "      <td>1961</td>\n",
       "    </tr>\n",
       "    <tr>\n",
       "      <th>39</th>\n",
       "      <td>Lesotho</td>\n",
       "      <td>1845</td>\n",
       "      <td>1966</td>\n",
       "    </tr>\n",
       "    <tr>\n",
       "      <th>43</th>\n",
       "      <td>Malawi</td>\n",
       "      <td>1885</td>\n",
       "      <td>1964</td>\n",
       "    </tr>\n",
       "    <tr>\n",
       "      <th>49</th>\n",
       "      <td>Myarnuar/Burma</td>\n",
       "      <td>1826</td>\n",
       "      <td>1948</td>\n",
       "    </tr>\n",
       "    <tr>\n",
       "      <th>50</th>\n",
       "      <td>Nepal</td>\n",
       "      <td>1816</td>\n",
       "      <td>1947</td>\n",
       "    </tr>\n",
       "    <tr>\n",
       "      <th>52</th>\n",
       "      <td>Nigeria</td>\n",
       "      <td>1851</td>\n",
       "      <td>1960</td>\n",
       "    </tr>\n",
       "    <tr>\n",
       "      <th>54</th>\n",
       "      <td>Pakistan</td>\n",
       "      <td>1843</td>\n",
       "      <td>1947</td>\n",
       "    </tr>\n",
       "    <tr>\n",
       "      <th>57</th>\n",
       "      <td>Qatar</td>\n",
       "      <td>1916</td>\n",
       "      <td>1971</td>\n",
       "    </tr>\n",
       "    <tr>\n",
       "      <th>59</th>\n",
       "      <td>Saudi Arabia</td>\n",
       "      <td>1915</td>\n",
       "      <td>1927</td>\n",
       "    </tr>\n",
       "    <tr>\n",
       "      <th>61</th>\n",
       "      <td>Sierra L</td>\n",
       "      <td>1787</td>\n",
       "      <td>1961</td>\n",
       "    </tr>\n",
       "    <tr>\n",
       "      <th>62</th>\n",
       "      <td>Solomon Islands</td>\n",
       "      <td>1885</td>\n",
       "      <td>1978</td>\n",
       "    </tr>\n",
       "    <tr>\n",
       "      <th>65</th>\n",
       "      <td>Sri Lanka</td>\n",
       "      <td>1597</td>\n",
       "      <td>1948</td>\n",
       "    </tr>\n",
       "    <tr>\n",
       "      <th>66</th>\n",
       "      <td>Sudan</td>\n",
       "      <td>1882</td>\n",
       "      <td>1956</td>\n",
       "    </tr>\n",
       "    <tr>\n",
       "      <th>75</th>\n",
       "      <td>Uganda</td>\n",
       "      <td>1890</td>\n",
       "      <td>1962</td>\n",
       "    </tr>\n",
       "    <tr>\n",
       "      <th>76</th>\n",
       "      <td>UAE</td>\n",
       "      <td>1850</td>\n",
       "      <td>1971</td>\n",
       "    </tr>\n",
       "    <tr>\n",
       "      <th>77</th>\n",
       "      <td>Vanuatu</td>\n",
       "      <td>1887</td>\n",
       "      <td>1980</td>\n",
       "    </tr>\n",
       "    <tr>\n",
       "      <th>80</th>\n",
       "      <td>Zambia</td>\n",
       "      <td>1889</td>\n",
       "      <td>1964</td>\n",
       "    </tr>\n",
       "  </tbody>\n",
       "</table>\n",
       "</div>"
      ],
      "text/plain": [
       "               Task  Start  Finish\n",
       "0       Afghanistan   1880    1919\n",
       "3           Bahrain   1860    1971\n",
       "4        Bangladesh   1757    1947\n",
       "6            Bhutan   1866    1949\n",
       "7          Botswana   1885    1966\n",
       "18         Ethiopia   1908    1954\n",
       "19             Fiji   1874    1970\n",
       "21           Gambia   1816    1965\n",
       "22            Ghana   1756    1957\n",
       "25            India   1757    1947\n",
       "27             Iran   1828    1921\n",
       "28             Iraq   1914    1958\n",
       "31           Jordan   1918    1956\n",
       "36           Kuwait   1899    1961\n",
       "39          Lesotho   1845    1966\n",
       "43           Malawi   1885    1964\n",
       "49   Myarnuar/Burma   1826    1948\n",
       "50            Nepal   1816    1947\n",
       "52          Nigeria   1851    1960\n",
       "54         Pakistan   1843    1947\n",
       "57            Qatar   1916    1971\n",
       "59     Saudi Arabia   1915    1927\n",
       "61         Sierra L   1787    1961\n",
       "62  Solomon Islands   1885    1978\n",
       "65        Sri Lanka   1597    1948\n",
       "66            Sudan   1882    1956\n",
       "75           Uganda   1890    1962\n",
       "76              UAE   1850    1971\n",
       "77          Vanuatu   1887    1980\n",
       "80           Zambia   1889    1964"
      ]
     },
     "execution_count": 188,
     "metadata": {},
     "output_type": "execute_result"
    }
   ],
   "source": [
    "df_gantt"
   ]
  },
  {
   "cell_type": "code",
   "execution_count": 213,
   "metadata": {},
   "outputs": [
    {
     "data": {
      "text/html": [
       "<div>\n",
       "<style scoped>\n",
       "    .dataframe tbody tr th:only-of-type {\n",
       "        vertical-align: middle;\n",
       "    }\n",
       "\n",
       "    .dataframe tbody tr th {\n",
       "        vertical-align: top;\n",
       "    }\n",
       "\n",
       "    .dataframe thead th {\n",
       "        text-align: right;\n",
       "    }\n",
       "</style>\n",
       "<table border=\"1\" class=\"dataframe\">\n",
       "  <thead>\n",
       "    <tr style=\"text-align: right;\">\n",
       "      <th></th>\n",
       "      <th>Task</th>\n",
       "      <th>Start</th>\n",
       "      <th>Finish</th>\n",
       "      <th>mcp_start</th>\n",
       "    </tr>\n",
       "  </thead>\n",
       "  <tbody>\n",
       "    <tr>\n",
       "      <th>0</th>\n",
       "      <td>Afghanistan</td>\n",
       "      <td>1880</td>\n",
       "      <td>1919</td>\n",
       "      <td>UK</td>\n",
       "    </tr>\n",
       "    <tr>\n",
       "      <th>1</th>\n",
       "      <td>Algeria</td>\n",
       "      <td>1830</td>\n",
       "      <td>1962</td>\n",
       "      <td>F</td>\n",
       "    </tr>\n",
       "    <tr>\n",
       "      <th>2</th>\n",
       "      <td>Angola</td>\n",
       "      <td>1573</td>\n",
       "      <td>1975</td>\n",
       "      <td>P</td>\n",
       "    </tr>\n",
       "    <tr>\n",
       "      <th>3</th>\n",
       "      <td>Bahrain</td>\n",
       "      <td>1860</td>\n",
       "      <td>1971</td>\n",
       "      <td>UK</td>\n",
       "    </tr>\n",
       "    <tr>\n",
       "      <th>4</th>\n",
       "      <td>Bangladesh</td>\n",
       "      <td>1757</td>\n",
       "      <td>1947</td>\n",
       "      <td>UK</td>\n",
       "    </tr>\n",
       "    <tr>\n",
       "      <th>5</th>\n",
       "      <td>Benin</td>\n",
       "      <td>1878</td>\n",
       "      <td>1960</td>\n",
       "      <td>F</td>\n",
       "    </tr>\n",
       "    <tr>\n",
       "      <th>6</th>\n",
       "      <td>Bhutan</td>\n",
       "      <td>1866</td>\n",
       "      <td>1949</td>\n",
       "      <td>UK</td>\n",
       "    </tr>\n",
       "    <tr>\n",
       "      <th>7</th>\n",
       "      <td>Botswana</td>\n",
       "      <td>1885</td>\n",
       "      <td>1966</td>\n",
       "      <td>UK</td>\n",
       "    </tr>\n",
       "    <tr>\n",
       "      <th>8</th>\n",
       "      <td>Burkina Faso</td>\n",
       "      <td>1895</td>\n",
       "      <td>1960</td>\n",
       "      <td>F</td>\n",
       "    </tr>\n",
       "    <tr>\n",
       "      <th>9</th>\n",
       "      <td>Burundi</td>\n",
       "      <td>1897</td>\n",
       "      <td>1962</td>\n",
       "      <td>G</td>\n",
       "    </tr>\n",
       "    <tr>\n",
       "      <th>10</th>\n",
       "      <td>Cameroon</td>\n",
       "      <td>1845</td>\n",
       "      <td>1960</td>\n",
       "      <td>G</td>\n",
       "    </tr>\n",
       "    <tr>\n",
       "      <th>11</th>\n",
       "      <td>Central Afr. Rep</td>\n",
       "      <td>1890</td>\n",
       "      <td>1960</td>\n",
       "      <td>F</td>\n",
       "    </tr>\n",
       "    <tr>\n",
       "      <th>12</th>\n",
       "      <td>Chad</td>\n",
       "      <td>1900</td>\n",
       "      <td>1960</td>\n",
       "      <td>F</td>\n",
       "    </tr>\n",
       "    <tr>\n",
       "      <th>13</th>\n",
       "      <td>China</td>\n",
       "      <td>1842</td>\n",
       "      <td>1949</td>\n",
       "      <td>semicol.</td>\n",
       "    </tr>\n",
       "    <tr>\n",
       "      <th>14</th>\n",
       "      <td>Congo</td>\n",
       "      <td>1880</td>\n",
       "      <td>1960</td>\n",
       "      <td>F</td>\n",
       "    </tr>\n",
       "    <tr>\n",
       "      <th>15</th>\n",
       "      <td>Djibouti</td>\n",
       "      <td>1862</td>\n",
       "      <td>1977</td>\n",
       "      <td>F</td>\n",
       "    </tr>\n",
       "    <tr>\n",
       "      <th>16</th>\n",
       "      <td>Egypt</td>\n",
       "      <td>1876</td>\n",
       "      <td>1956</td>\n",
       "      <td>F</td>\n",
       "    </tr>\n",
       "    <tr>\n",
       "      <th>17</th>\n",
       "      <td>Equatorial Guinea</td>\n",
       "      <td>1507</td>\n",
       "      <td>1968</td>\n",
       "      <td>P</td>\n",
       "    </tr>\n",
       "    <tr>\n",
       "      <th>18</th>\n",
       "      <td>Ethiopia</td>\n",
       "      <td>1908</td>\n",
       "      <td>1954</td>\n",
       "      <td>UK</td>\n",
       "    </tr>\n",
       "    <tr>\n",
       "      <th>19</th>\n",
       "      <td>Fiji</td>\n",
       "      <td>1874</td>\n",
       "      <td>1970</td>\n",
       "      <td>UK</td>\n",
       "    </tr>\n",
       "    <tr>\n",
       "      <th>20</th>\n",
       "      <td>Gabon</td>\n",
       "      <td>1852</td>\n",
       "      <td>1960</td>\n",
       "      <td>F</td>\n",
       "    </tr>\n",
       "    <tr>\n",
       "      <th>21</th>\n",
       "      <td>Gambia</td>\n",
       "      <td>1816</td>\n",
       "      <td>1965</td>\n",
       "      <td>UK</td>\n",
       "    </tr>\n",
       "    <tr>\n",
       "      <th>22</th>\n",
       "      <td>Ghana</td>\n",
       "      <td>1756</td>\n",
       "      <td>1957</td>\n",
       "      <td>UK</td>\n",
       "    </tr>\n",
       "    <tr>\n",
       "      <th>23</th>\n",
       "      <td>Guinea</td>\n",
       "      <td>1865</td>\n",
       "      <td>1958</td>\n",
       "      <td>F</td>\n",
       "    </tr>\n",
       "    <tr>\n",
       "      <th>24</th>\n",
       "      <td>Guinea-Bissau</td>\n",
       "      <td>1616</td>\n",
       "      <td>1974</td>\n",
       "      <td>P</td>\n",
       "    </tr>\n",
       "    <tr>\n",
       "      <th>25</th>\n",
       "      <td>India</td>\n",
       "      <td>1757</td>\n",
       "      <td>1947</td>\n",
       "      <td>UK</td>\n",
       "    </tr>\n",
       "    <tr>\n",
       "      <th>26</th>\n",
       "      <td>Indonesia</td>\n",
       "      <td>1619</td>\n",
       "      <td>1962</td>\n",
       "      <td>NL</td>\n",
       "    </tr>\n",
       "    <tr>\n",
       "      <th>27</th>\n",
       "      <td>Iran</td>\n",
       "      <td>1828</td>\n",
       "      <td>1921</td>\n",
       "      <td>UK</td>\n",
       "    </tr>\n",
       "    <tr>\n",
       "      <th>28</th>\n",
       "      <td>Iraq</td>\n",
       "      <td>1914</td>\n",
       "      <td>1958</td>\n",
       "      <td>UK</td>\n",
       "    </tr>\n",
       "    <tr>\n",
       "      <th>29</th>\n",
       "      <td>Ivory Coast</td>\n",
       "      <td>1839</td>\n",
       "      <td>1960</td>\n",
       "      <td>F</td>\n",
       "    </tr>\n",
       "    <tr>\n",
       "      <th>...</th>\n",
       "      <td>...</td>\n",
       "      <td>...</td>\n",
       "      <td>...</td>\n",
       "      <td>...</td>\n",
       "    </tr>\n",
       "    <tr>\n",
       "      <th>52</th>\n",
       "      <td>Nigeria</td>\n",
       "      <td>1851</td>\n",
       "      <td>1960</td>\n",
       "      <td>UK</td>\n",
       "    </tr>\n",
       "    <tr>\n",
       "      <th>53</th>\n",
       "      <td>Oman</td>\n",
       "      <td>1507</td>\n",
       "      <td>1971</td>\n",
       "      <td>P</td>\n",
       "    </tr>\n",
       "    <tr>\n",
       "      <th>54</th>\n",
       "      <td>Pakistan</td>\n",
       "      <td>1843</td>\n",
       "      <td>1947</td>\n",
       "      <td>UK</td>\n",
       "    </tr>\n",
       "    <tr>\n",
       "      <th>55</th>\n",
       "      <td>Papua N Guinea</td>\n",
       "      <td>1884</td>\n",
       "      <td>1975</td>\n",
       "      <td>G</td>\n",
       "    </tr>\n",
       "    <tr>\n",
       "      <th>56</th>\n",
       "      <td>Philippines</td>\n",
       "      <td>1565</td>\n",
       "      <td>1946</td>\n",
       "      <td>SP</td>\n",
       "    </tr>\n",
       "    <tr>\n",
       "      <th>57</th>\n",
       "      <td>Qatar</td>\n",
       "      <td>1916</td>\n",
       "      <td>1971</td>\n",
       "      <td>UK</td>\n",
       "    </tr>\n",
       "    <tr>\n",
       "      <th>58</th>\n",
       "      <td>Rwanda</td>\n",
       "      <td>1899</td>\n",
       "      <td>1961</td>\n",
       "      <td>G</td>\n",
       "    </tr>\n",
       "    <tr>\n",
       "      <th>59</th>\n",
       "      <td>Saudi Arabia</td>\n",
       "      <td>1915</td>\n",
       "      <td>1927</td>\n",
       "      <td>UK</td>\n",
       "    </tr>\n",
       "    <tr>\n",
       "      <th>60</th>\n",
       "      <td>Senegal</td>\n",
       "      <td>1816</td>\n",
       "      <td>1906</td>\n",
       "      <td>F</td>\n",
       "    </tr>\n",
       "    <tr>\n",
       "      <th>61</th>\n",
       "      <td>Sierra L</td>\n",
       "      <td>1787</td>\n",
       "      <td>1961</td>\n",
       "      <td>UK</td>\n",
       "    </tr>\n",
       "    <tr>\n",
       "      <th>62</th>\n",
       "      <td>Solomon Islands</td>\n",
       "      <td>1885</td>\n",
       "      <td>1978</td>\n",
       "      <td>UK</td>\n",
       "    </tr>\n",
       "    <tr>\n",
       "      <th>63</th>\n",
       "      <td>Somalia</td>\n",
       "      <td>1506</td>\n",
       "      <td>1960</td>\n",
       "      <td>P</td>\n",
       "    </tr>\n",
       "    <tr>\n",
       "      <th>64</th>\n",
       "      <td>South Africa</td>\n",
       "      <td>1652</td>\n",
       "      <td>1994</td>\n",
       "      <td>NL</td>\n",
       "    </tr>\n",
       "    <tr>\n",
       "      <th>65</th>\n",
       "      <td>Sri Lanka</td>\n",
       "      <td>1597</td>\n",
       "      <td>1948</td>\n",
       "      <td>UK</td>\n",
       "    </tr>\n",
       "    <tr>\n",
       "      <th>66</th>\n",
       "      <td>Sudan</td>\n",
       "      <td>1882</td>\n",
       "      <td>1956</td>\n",
       "      <td>UK</td>\n",
       "    </tr>\n",
       "    <tr>\n",
       "      <th>67</th>\n",
       "      <td>Swaziland</td>\n",
       "      <td>1880</td>\n",
       "      <td>1968</td>\n",
       "      <td>settler</td>\n",
       "    </tr>\n",
       "    <tr>\n",
       "      <th>68</th>\n",
       "      <td>Syria</td>\n",
       "      <td>1918</td>\n",
       "      <td>1946</td>\n",
       "      <td>F</td>\n",
       "    </tr>\n",
       "    <tr>\n",
       "      <th>69</th>\n",
       "      <td>Taiwan</td>\n",
       "      <td>1624</td>\n",
       "      <td>1945</td>\n",
       "      <td>NL</td>\n",
       "    </tr>\n",
       "    <tr>\n",
       "      <th>70</th>\n",
       "      <td>Tanzania</td>\n",
       "      <td>1502</td>\n",
       "      <td>1963</td>\n",
       "      <td>P</td>\n",
       "    </tr>\n",
       "    <tr>\n",
       "      <th>71</th>\n",
       "      <td>Thailand</td>\n",
       "      <td>1855</td>\n",
       "      <td>1938</td>\n",
       "      <td>semicol.</td>\n",
       "    </tr>\n",
       "    <tr>\n",
       "      <th>72</th>\n",
       "      <td>Togo</td>\n",
       "      <td>1884</td>\n",
       "      <td>1960</td>\n",
       "      <td>G</td>\n",
       "    </tr>\n",
       "    <tr>\n",
       "      <th>73</th>\n",
       "      <td>Tunisia</td>\n",
       "      <td>1869</td>\n",
       "      <td>1956</td>\n",
       "      <td>F</td>\n",
       "    </tr>\n",
       "    <tr>\n",
       "      <th>74</th>\n",
       "      <td>Turkey</td>\n",
       "      <td>1838</td>\n",
       "      <td>1929</td>\n",
       "      <td>semicol.</td>\n",
       "    </tr>\n",
       "    <tr>\n",
       "      <th>75</th>\n",
       "      <td>Uganda</td>\n",
       "      <td>1890</td>\n",
       "      <td>1962</td>\n",
       "      <td>UK</td>\n",
       "    </tr>\n",
       "    <tr>\n",
       "      <th>76</th>\n",
       "      <td>UAE</td>\n",
       "      <td>1850</td>\n",
       "      <td>1971</td>\n",
       "      <td>UK</td>\n",
       "    </tr>\n",
       "    <tr>\n",
       "      <th>77</th>\n",
       "      <td>Vanuatu</td>\n",
       "      <td>1887</td>\n",
       "      <td>1980</td>\n",
       "      <td>UK</td>\n",
       "    </tr>\n",
       "    <tr>\n",
       "      <th>78</th>\n",
       "      <td>Vietnam</td>\n",
       "      <td>1859</td>\n",
       "      <td>1956</td>\n",
       "      <td>F</td>\n",
       "    </tr>\n",
       "    <tr>\n",
       "      <th>79</th>\n",
       "      <td>Zaire</td>\n",
       "      <td>1879</td>\n",
       "      <td>1960</td>\n",
       "      <td>B</td>\n",
       "    </tr>\n",
       "    <tr>\n",
       "      <th>80</th>\n",
       "      <td>Zambia</td>\n",
       "      <td>1889</td>\n",
       "      <td>1964</td>\n",
       "      <td>UK</td>\n",
       "    </tr>\n",
       "    <tr>\n",
       "      <th>81</th>\n",
       "      <td>Zimbabwe</td>\n",
       "      <td>1560</td>\n",
       "      <td>1980</td>\n",
       "      <td>P</td>\n",
       "    </tr>\n",
       "  </tbody>\n",
       "</table>\n",
       "<p>82 rows × 4 columns</p>\n",
       "</div>"
      ],
      "text/plain": [
       "                 Task  Start  Finish mcp_start\n",
       "0         Afghanistan   1880    1919        UK\n",
       "1             Algeria   1830    1962         F\n",
       "2              Angola   1573    1975         P\n",
       "3             Bahrain   1860    1971        UK\n",
       "4          Bangladesh   1757    1947        UK\n",
       "5               Benin   1878    1960         F\n",
       "6              Bhutan   1866    1949        UK\n",
       "7            Botswana   1885    1966        UK\n",
       "8        Burkina Faso   1895    1960         F\n",
       "9             Burundi   1897    1962         G\n",
       "10           Cameroon   1845    1960         G\n",
       "11   Central Afr. Rep   1890    1960         F\n",
       "12               Chad   1900    1960         F\n",
       "13              China   1842    1949  semicol.\n",
       "14              Congo   1880    1960         F\n",
       "15           Djibouti   1862    1977         F\n",
       "16              Egypt   1876    1956         F\n",
       "17  Equatorial Guinea   1507    1968         P\n",
       "18           Ethiopia   1908    1954        UK\n",
       "19               Fiji   1874    1970        UK\n",
       "20              Gabon   1852    1960         F\n",
       "21             Gambia   1816    1965        UK\n",
       "22              Ghana   1756    1957        UK\n",
       "23             Guinea   1865    1958         F\n",
       "24      Guinea-Bissau   1616    1974         P\n",
       "25              India   1757    1947        UK\n",
       "26          Indonesia   1619    1962        NL\n",
       "27               Iran   1828    1921        UK\n",
       "28               Iraq   1914    1958        UK\n",
       "29        Ivory Coast   1839    1960         F\n",
       "..                ...    ...     ...       ...\n",
       "52            Nigeria   1851    1960        UK\n",
       "53               Oman   1507    1971         P\n",
       "54           Pakistan   1843    1947        UK\n",
       "55     Papua N Guinea   1884    1975         G\n",
       "56        Philippines   1565    1946        SP\n",
       "57              Qatar   1916    1971        UK\n",
       "58             Rwanda   1899    1961         G\n",
       "59       Saudi Arabia   1915    1927        UK\n",
       "60            Senegal   1816    1906         F\n",
       "61           Sierra L   1787    1961        UK\n",
       "62    Solomon Islands   1885    1978        UK\n",
       "63            Somalia   1506    1960         P\n",
       "64       South Africa   1652    1994        NL\n",
       "65          Sri Lanka   1597    1948        UK\n",
       "66              Sudan   1882    1956        UK\n",
       "67          Swaziland   1880    1968   settler\n",
       "68              Syria   1918    1946         F\n",
       "69             Taiwan   1624    1945        NL\n",
       "70           Tanzania   1502    1963         P\n",
       "71           Thailand   1855    1938  semicol.\n",
       "72               Togo   1884    1960         G\n",
       "73            Tunisia   1869    1956         F\n",
       "74             Turkey   1838    1929  semicol.\n",
       "75             Uganda   1890    1962        UK\n",
       "76                UAE   1850    1971        UK\n",
       "77            Vanuatu   1887    1980        UK\n",
       "78            Vietnam   1859    1956         F\n",
       "79              Zaire   1879    1960         B\n",
       "80             Zambia   1889    1964        UK\n",
       "81           Zimbabwe   1560    1980         P\n",
       "\n",
       "[82 rows x 4 columns]"
      ]
     },
     "execution_count": 213,
     "metadata": {},
     "output_type": "execute_result"
    }
   ],
   "source": [
    "df_gantt = df\n",
    "\n",
    "# df_gantt = df_gantt[df_gantt['mcp_start'] == 'UK' ] THIS LINE BREAKS IT I DONT KNOW WHY\n",
    "\n",
    "df_gantt = df_gantt[['country', 'start', 'end', 'mcp_start']]\n",
    "\n",
    "\n",
    "df_gantt = (df_gantt.rename(columns=\n",
    "                {'country':'Task', 'start':'Start', 'end':'Finish'}))\n",
    "\n",
    "\n",
    "\n",
    "# colors = ['#7a0504', (0.2, 0.7, 0.3), 'rgb(210, 60, 180)']\n",
    "\n",
    "df_gantt"
   ]
  },
  {
   "cell_type": "code",
   "execution_count": 212,
   "metadata": {},
   "outputs": [
    {
     "data": {
      "application/vnd.plotly.v1+json": {
       "config": {
        "plotlyServerURL": "https://plot.ly"
       },
       "data": [
        {
         "fill": "toself",
         "fillcolor": "rgb(102, 153, 102)",
         "hoverinfo": "name",
         "legendgroup": "rgb(102, 153, 102)",
         "mode": "none",
         "name": "I",
         "showlegend": true,
         "type": "scatter",
         "x": [
          1911,
          1951,
          1951,
          1911
         ],
         "y": [
          40.8,
          40.8,
          41.2,
          41.2
         ]
        },
        {
         "fill": "toself",
         "fillcolor": "rgb(128, 128, 128)",
         "hoverinfo": "name",
         "legendgroup": "rgb(128, 128, 128)",
         "mode": "none",
         "name": "JP",
         "showlegend": true,
         "type": "scatter",
         "x": [
          1876,
          1945,
          1945,
          1876,
          1876,
          1876,
          1945,
          1945,
          1876
         ],
         "y": [
          33.8,
          33.8,
          34.2,
          34.2,
          null,
          34.8,
          34.8,
          35.2,
          35.2
         ]
        },
        {
         "fill": "toself",
         "fillcolor": "rgb(153, 102, 153)",
         "hoverinfo": "name",
         "legendgroup": "rgb(153, 102, 153)",
         "mode": "none",
         "name": "NL",
         "showlegend": true,
         "type": "scatter",
         "x": [
          1619,
          1962,
          1962,
          1619,
          1619,
          1652,
          1994,
          1994,
          1652,
          1652,
          1624,
          1945,
          1945,
          1624
         ],
         "y": [
          25.8,
          25.8,
          26.2,
          26.2,
          null,
          63.8,
          63.8,
          64.2,
          64.2,
          null,
          68.8,
          68.8,
          69.2,
          69.2
         ]
        },
        {
         "fill": "toself",
         "fillcolor": "rgb(178, 77, 178)",
         "hoverinfo": "name",
         "legendgroup": "rgb(178, 77, 178)",
         "mode": "none",
         "name": "P",
         "showlegend": true,
         "type": "scatter",
         "x": [
          1573,
          1975,
          1975,
          1573,
          1573,
          1507,
          1968,
          1968,
          1507,
          1507,
          1616,
          1974,
          1974,
          1616,
          1616,
          1505,
          1963,
          1963,
          1505,
          1505,
          1511,
          1963,
          1963,
          1511,
          1511,
          1505,
          1975,
          1975,
          1505,
          1505,
          1507,
          1971,
          1971,
          1507,
          1507,
          1506,
          1960,
          1960,
          1506,
          1506,
          1502,
          1963,
          1963,
          1502,
          1502,
          1560,
          1980,
          1980,
          1560
         ],
         "y": [
          1.8,
          1.8,
          2.2,
          2.2,
          null,
          16.8,
          16.8,
          17.2,
          17.2,
          null,
          23.8,
          23.8,
          24.2,
          24.2,
          null,
          32.8,
          32.8,
          33.2,
          33.2,
          null,
          43.8,
          43.8,
          44.2,
          44.2,
          null,
          47.8,
          47.8,
          48.2,
          48.2,
          null,
          52.8,
          52.8,
          53.2,
          53.2,
          null,
          62.8,
          62.8,
          63.2,
          63.2,
          null,
          69.8,
          69.8,
          70.2,
          70.2,
          null,
          80.8,
          80.8,
          81.2,
          81.2
         ]
        },
        {
         "fill": "toself",
         "fillcolor": "rgb(191, 191, 191)",
         "hoverinfo": "name",
         "legendgroup": "rgb(191, 191, 191)",
         "mode": "none",
         "name": "settler",
         "showlegend": true,
         "type": "scatter",
         "x": [
          1880,
          1968,
          1968,
          1880
         ],
         "y": [
          66.8,
          66.8,
          67.2,
          67.2
         ]
        },
        {
         "fill": "toself",
         "fillcolor": "rgb(204, 51, 204)",
         "hoverinfo": "name",
         "legendgroup": "rgb(204, 51, 204)",
         "mode": "none",
         "name": "SP",
         "showlegend": true,
         "type": "scatter",
         "x": [
          1565,
          1946,
          1946,
          1565
         ],
         "y": [
          55.8,
          55.8,
          56.2,
          56.2
         ]
        },
        {
         "fill": "toself",
         "fillcolor": "rgb(230, 25, 230)",
         "hoverinfo": "name",
         "legendgroup": "rgb(230, 25, 230)",
         "mode": "none",
         "name": "UK",
         "showlegend": true,
         "type": "scatter",
         "x": [
          1880,
          1919,
          1919,
          1880,
          1880,
          1860,
          1971,
          1971,
          1860,
          1860,
          1757,
          1947,
          1947,
          1757,
          1757,
          1866,
          1949,
          1949,
          1866,
          1866,
          1885,
          1966,
          1966,
          1885,
          1885,
          1908,
          1954,
          1954,
          1908,
          1908,
          1874,
          1970,
          1970,
          1874,
          1874,
          1816,
          1965,
          1965,
          1816,
          1816,
          1756,
          1957,
          1957,
          1756,
          1756,
          1757,
          1947,
          1947,
          1757,
          1757,
          1828,
          1921,
          1921,
          1828,
          1828,
          1914,
          1958,
          1958,
          1914,
          1914,
          1918,
          1956,
          1956,
          1918,
          1918,
          1899,
          1961,
          1961,
          1899,
          1899,
          1845,
          1966,
          1966,
          1845,
          1845,
          1885,
          1964,
          1964,
          1885,
          1885,
          1826,
          1948,
          1948,
          1826,
          1826,
          1816,
          1947,
          1947,
          1816,
          1816,
          1851,
          1960,
          1960,
          1851,
          1851,
          1843,
          1947,
          1947,
          1843,
          1843,
          1916,
          1971,
          1971,
          1916,
          1916,
          1915,
          1927,
          1927,
          1915,
          1915,
          1787,
          1961,
          1961,
          1787,
          1787,
          1885,
          1978,
          1978,
          1885,
          1885,
          1597,
          1948,
          1948,
          1597,
          1597,
          1882,
          1956,
          1956,
          1882,
          1882,
          1890,
          1962,
          1962,
          1890,
          1890,
          1850,
          1971,
          1971,
          1850,
          1850,
          1887,
          1980,
          1980,
          1887,
          1887,
          1889,
          1964,
          1964,
          1889
         ],
         "y": [
          -0.2,
          -0.2,
          0.2,
          0.2,
          null,
          2.8,
          2.8,
          3.2,
          3.2,
          null,
          3.8,
          3.8,
          4.2,
          4.2,
          null,
          5.8,
          5.8,
          6.2,
          6.2,
          null,
          6.8,
          6.8,
          7.2,
          7.2,
          null,
          17.8,
          17.8,
          18.2,
          18.2,
          null,
          18.8,
          18.8,
          19.2,
          19.2,
          null,
          20.8,
          20.8,
          21.2,
          21.2,
          null,
          21.8,
          21.8,
          22.2,
          22.2,
          null,
          24.8,
          24.8,
          25.2,
          25.2,
          null,
          26.8,
          26.8,
          27.2,
          27.2,
          null,
          27.8,
          27.8,
          28.2,
          28.2,
          null,
          30.8,
          30.8,
          31.2,
          31.2,
          null,
          35.8,
          35.8,
          36.2,
          36.2,
          null,
          38.8,
          38.8,
          39.2,
          39.2,
          null,
          42.8,
          42.8,
          43.2,
          43.2,
          null,
          48.8,
          48.8,
          49.2,
          49.2,
          null,
          49.8,
          49.8,
          50.2,
          50.2,
          null,
          51.8,
          51.8,
          52.2,
          52.2,
          null,
          53.8,
          53.8,
          54.2,
          54.2,
          null,
          56.8,
          56.8,
          57.2,
          57.2,
          null,
          58.8,
          58.8,
          59.2,
          59.2,
          null,
          60.8,
          60.8,
          61.2,
          61.2,
          null,
          61.8,
          61.8,
          62.2,
          62.2,
          null,
          64.8,
          64.8,
          65.2,
          65.2,
          null,
          65.8,
          65.8,
          66.2,
          66.2,
          null,
          74.8,
          74.8,
          75.2,
          75.2,
          null,
          75.8,
          75.8,
          76.2,
          76.2,
          null,
          76.8,
          76.8,
          77.2,
          77.2,
          null,
          79.8,
          79.8,
          80.2,
          80.2
         ]
        },
        {
         "fill": "toself",
         "fillcolor": "rgb(255, 0, 255)",
         "hoverinfo": "name",
         "legendgroup": "rgb(255, 0, 255)",
         "mode": "none",
         "name": "USA",
         "showlegend": true,
         "type": "scatter",
         "x": [
          1821,
          1976,
          1976,
          1821
         ],
         "y": [
          39.8,
          39.8,
          40.2,
          40.2
         ]
        },
        {
         "fill": "toself",
         "fillcolor": "rgb(26, 230, 26)",
         "hoverinfo": "name",
         "legendgroup": "rgb(26, 230, 26)",
         "mode": "none",
         "name": "B",
         "showlegend": true,
         "type": "scatter",
         "x": [
          1879,
          1960,
          1960,
          1879
         ],
         "y": [
          78.8,
          78.8,
          79.2,
          79.2
         ]
        },
        {
         "fill": "toself",
         "fillcolor": "rgb(51, 204, 51)",
         "hoverinfo": "name",
         "legendgroup": "rgb(51, 204, 51)",
         "mode": "none",
         "name": "F",
         "showlegend": true,
         "type": "scatter",
         "x": [
          1830,
          1962,
          1962,
          1830,
          1830,
          1878,
          1960,
          1960,
          1878,
          1878,
          1895,
          1960,
          1960,
          1895,
          1895,
          1890,
          1960,
          1960,
          1890,
          1890,
          1900,
          1960,
          1960,
          1900,
          1900,
          1880,
          1960,
          1960,
          1880,
          1880,
          1862,
          1977,
          1977,
          1862,
          1862,
          1876,
          1956,
          1956,
          1876,
          1876,
          1852,
          1960,
          1960,
          1852,
          1852,
          1865,
          1958,
          1958,
          1865,
          1865,
          1839,
          1960,
          1960,
          1839,
          1839,
          1863,
          1955,
          1955,
          1863,
          1863,
          1893,
          1955,
          1955,
          1893,
          1893,
          1860,
          1944,
          1944,
          1860,
          1860,
          1642,
          1960,
          1960,
          1642,
          1642,
          1880,
          1960,
          1960,
          1880,
          1880,
          1858,
          1960,
          1960,
          1858,
          1858,
          1903,
          1956,
          1956,
          1903,
          1903,
          1897,
          1960,
          1960,
          1897,
          1897,
          1816,
          1906,
          1906,
          1816,
          1816,
          1918,
          1946,
          1946,
          1918,
          1918,
          1869,
          1956,
          1956,
          1869,
          1869,
          1859,
          1956,
          1956,
          1859
         ],
         "y": [
          0.8,
          0.8,
          1.2,
          1.2,
          null,
          4.8,
          4.8,
          5.2,
          5.2,
          null,
          7.8,
          7.8,
          8.2,
          8.2,
          null,
          10.8,
          10.8,
          11.2,
          11.2,
          null,
          11.8,
          11.8,
          12.2,
          12.2,
          null,
          13.8,
          13.8,
          14.2,
          14.2,
          null,
          14.8,
          14.8,
          15.2,
          15.2,
          null,
          15.8,
          15.8,
          16.2,
          16.2,
          null,
          19.8,
          19.8,
          20.2,
          20.2,
          null,
          22.8,
          22.8,
          23.2,
          23.2,
          null,
          28.8,
          28.8,
          29.2,
          29.2,
          null,
          31.8,
          31.8,
          32.2,
          32.2,
          null,
          36.8,
          36.8,
          37.2,
          37.2,
          null,
          37.8,
          37.8,
          38.2,
          38.2,
          null,
          41.8,
          41.8,
          42.2,
          42.2,
          null,
          44.8,
          44.8,
          45.2,
          45.2,
          null,
          45.8,
          45.8,
          46.2,
          46.2,
          null,
          46.8,
          46.8,
          47.2,
          47.2,
          null,
          50.8,
          50.8,
          51.2,
          51.2,
          null,
          59.8,
          59.8,
          60.2,
          60.2,
          null,
          67.8,
          67.8,
          68.2,
          68.2,
          null,
          72.8,
          72.8,
          73.2,
          73.2,
          null,
          77.8,
          77.8,
          78.2,
          78.2
         ]
        },
        {
         "fill": "toself",
         "fillcolor": "rgb(64, 64, 64)",
         "hoverinfo": "name",
         "legendgroup": "rgb(64, 64, 64)",
         "mode": "none",
         "name": "semicol.",
         "showlegend": true,
         "type": "scatter",
         "x": [
          1842,
          1949,
          1949,
          1842,
          1842,
          1854,
          1911,
          1911,
          1854,
          1854,
          1855,
          1938,
          1938,
          1855,
          1855,
          1838,
          1929,
          1929,
          1838
         ],
         "y": [
          12.8,
          12.8,
          13.2,
          13.2,
          null,
          29.8,
          29.8,
          30.2,
          30.2,
          null,
          70.8,
          70.8,
          71.2,
          71.2,
          null,
          73.8,
          73.8,
          74.2,
          74.2
         ]
        },
        {
         "fill": "toself",
         "fillcolor": "rgb(76, 178, 76)",
         "hoverinfo": "name",
         "legendgroup": "rgb(76, 178, 76)",
         "mode": "none",
         "name": "G",
         "showlegend": true,
         "type": "scatter",
         "x": [
          1897,
          1962,
          1962,
          1897,
          1897,
          1845,
          1960,
          1960,
          1845,
          1845,
          1884,
          1975,
          1975,
          1884,
          1884,
          1899,
          1961,
          1961,
          1899,
          1899,
          1884,
          1960,
          1960,
          1884
         ],
         "y": [
          8.8,
          8.8,
          9.2,
          9.2,
          null,
          9.8,
          9.8,
          10.2,
          10.2,
          null,
          54.8,
          54.8,
          55.2,
          55.2,
          null,
          57.8,
          57.8,
          58.2,
          58.2,
          null,
          71.8,
          71.8,
          72.2,
          72.2
         ]
        },
        {
         "legendgroup": "rgb(102, 153, 102)",
         "marker": {
          "color": "rgb(102, 153, 102)",
          "opacity": 0,
          "size": 1
         },
         "mode": "markers",
         "name": "",
         "showlegend": false,
         "text": [
          null,
          null
         ],
         "type": "scatter",
         "x": [
          1911,
          1951
         ],
         "y": [
          41,
          41
         ]
        },
        {
         "legendgroup": "rgb(128, 128, 128)",
         "marker": {
          "color": "rgb(128, 128, 128)",
          "opacity": 0,
          "size": 1
         },
         "mode": "markers",
         "name": "",
         "showlegend": false,
         "text": [
          null,
          null,
          null,
          null
         ],
         "type": "scatter",
         "x": [
          1876,
          1945,
          1876,
          1945
         ],
         "y": [
          34,
          34,
          35,
          35
         ]
        },
        {
         "legendgroup": "rgb(153, 102, 153)",
         "marker": {
          "color": "rgb(153, 102, 153)",
          "opacity": 0,
          "size": 1
         },
         "mode": "markers",
         "name": "",
         "showlegend": false,
         "text": [
          null,
          null,
          null,
          null,
          null,
          null
         ],
         "type": "scatter",
         "x": [
          1619,
          1962,
          1652,
          1994,
          1624,
          1945
         ],
         "y": [
          26,
          26,
          64,
          64,
          69,
          69
         ]
        },
        {
         "legendgroup": "rgb(178, 77, 178)",
         "marker": {
          "color": "rgb(178, 77, 178)",
          "opacity": 0,
          "size": 1
         },
         "mode": "markers",
         "name": "",
         "showlegend": false,
         "text": [
          null,
          null,
          null,
          null,
          null,
          null,
          null,
          null,
          null,
          null,
          null,
          null,
          null,
          null,
          null,
          null,
          null,
          null,
          null,
          null
         ],
         "type": "scatter",
         "x": [
          1573,
          1975,
          1507,
          1968,
          1616,
          1974,
          1505,
          1963,
          1511,
          1963,
          1505,
          1975,
          1507,
          1971,
          1506,
          1960,
          1502,
          1963,
          1560,
          1980
         ],
         "y": [
          2,
          2,
          17,
          17,
          24,
          24,
          33,
          33,
          44,
          44,
          48,
          48,
          53,
          53,
          63,
          63,
          70,
          70,
          81,
          81
         ]
        },
        {
         "legendgroup": "rgb(191, 191, 191)",
         "marker": {
          "color": "rgb(191, 191, 191)",
          "opacity": 0,
          "size": 1
         },
         "mode": "markers",
         "name": "",
         "showlegend": false,
         "text": [
          null,
          null
         ],
         "type": "scatter",
         "x": [
          1880,
          1968
         ],
         "y": [
          67,
          67
         ]
        },
        {
         "legendgroup": "rgb(204, 51, 204)",
         "marker": {
          "color": "rgb(204, 51, 204)",
          "opacity": 0,
          "size": 1
         },
         "mode": "markers",
         "name": "",
         "showlegend": false,
         "text": [
          null,
          null
         ],
         "type": "scatter",
         "x": [
          1565,
          1946
         ],
         "y": [
          56,
          56
         ]
        },
        {
         "legendgroup": "rgb(230, 25, 230)",
         "marker": {
          "color": "rgb(230, 25, 230)",
          "opacity": 0,
          "size": 1
         },
         "mode": "markers",
         "name": "",
         "showlegend": false,
         "text": [
          null,
          null,
          null,
          null,
          null,
          null,
          null,
          null,
          null,
          null,
          null,
          null,
          null,
          null,
          null,
          null,
          null,
          null,
          null,
          null,
          null,
          null,
          null,
          null,
          null,
          null,
          null,
          null,
          null,
          null,
          null,
          null,
          null,
          null,
          null,
          null,
          null,
          null,
          null,
          null,
          null,
          null,
          null,
          null,
          null,
          null,
          null,
          null,
          null,
          null,
          null,
          null,
          null,
          null,
          null,
          null,
          null,
          null,
          null,
          null
         ],
         "type": "scatter",
         "x": [
          1880,
          1919,
          1860,
          1971,
          1757,
          1947,
          1866,
          1949,
          1885,
          1966,
          1908,
          1954,
          1874,
          1970,
          1816,
          1965,
          1756,
          1957,
          1757,
          1947,
          1828,
          1921,
          1914,
          1958,
          1918,
          1956,
          1899,
          1961,
          1845,
          1966,
          1885,
          1964,
          1826,
          1948,
          1816,
          1947,
          1851,
          1960,
          1843,
          1947,
          1916,
          1971,
          1915,
          1927,
          1787,
          1961,
          1885,
          1978,
          1597,
          1948,
          1882,
          1956,
          1890,
          1962,
          1850,
          1971,
          1887,
          1980,
          1889,
          1964
         ],
         "y": [
          0,
          0,
          3,
          3,
          4,
          4,
          6,
          6,
          7,
          7,
          18,
          18,
          19,
          19,
          21,
          21,
          22,
          22,
          25,
          25,
          27,
          27,
          28,
          28,
          31,
          31,
          36,
          36,
          39,
          39,
          43,
          43,
          49,
          49,
          50,
          50,
          52,
          52,
          54,
          54,
          57,
          57,
          59,
          59,
          61,
          61,
          62,
          62,
          65,
          65,
          66,
          66,
          75,
          75,
          76,
          76,
          77,
          77,
          80,
          80
         ]
        },
        {
         "legendgroup": "rgb(255, 0, 255)",
         "marker": {
          "color": "rgb(255, 0, 255)",
          "opacity": 0,
          "size": 1
         },
         "mode": "markers",
         "name": "",
         "showlegend": false,
         "text": [
          null,
          null
         ],
         "type": "scatter",
         "x": [
          1821,
          1976
         ],
         "y": [
          40,
          40
         ]
        },
        {
         "legendgroup": "rgb(26, 230, 26)",
         "marker": {
          "color": "rgb(26, 230, 26)",
          "opacity": 0,
          "size": 1
         },
         "mode": "markers",
         "name": "",
         "showlegend": false,
         "text": [
          null,
          null
         ],
         "type": "scatter",
         "x": [
          1879,
          1960
         ],
         "y": [
          79,
          79
         ]
        },
        {
         "legendgroup": "rgb(51, 204, 51)",
         "marker": {
          "color": "rgb(51, 204, 51)",
          "opacity": 0,
          "size": 1
         },
         "mode": "markers",
         "name": "",
         "showlegend": false,
         "text": [
          null,
          null,
          null,
          null,
          null,
          null,
          null,
          null,
          null,
          null,
          null,
          null,
          null,
          null,
          null,
          null,
          null,
          null,
          null,
          null,
          null,
          null,
          null,
          null,
          null,
          null,
          null,
          null,
          null,
          null,
          null,
          null,
          null,
          null,
          null,
          null,
          null,
          null,
          null,
          null,
          null,
          null,
          null,
          null,
          null,
          null
         ],
         "type": "scatter",
         "x": [
          1830,
          1962,
          1878,
          1960,
          1895,
          1960,
          1890,
          1960,
          1900,
          1960,
          1880,
          1960,
          1862,
          1977,
          1876,
          1956,
          1852,
          1960,
          1865,
          1958,
          1839,
          1960,
          1863,
          1955,
          1893,
          1955,
          1860,
          1944,
          1642,
          1960,
          1880,
          1960,
          1858,
          1960,
          1903,
          1956,
          1897,
          1960,
          1816,
          1906,
          1918,
          1946,
          1869,
          1956,
          1859,
          1956
         ],
         "y": [
          1,
          1,
          5,
          5,
          8,
          8,
          11,
          11,
          12,
          12,
          14,
          14,
          15,
          15,
          16,
          16,
          20,
          20,
          23,
          23,
          29,
          29,
          32,
          32,
          37,
          37,
          38,
          38,
          42,
          42,
          45,
          45,
          46,
          46,
          47,
          47,
          51,
          51,
          60,
          60,
          68,
          68,
          73,
          73,
          78,
          78
         ]
        },
        {
         "legendgroup": "rgb(64, 64, 64)",
         "marker": {
          "color": "rgb(64, 64, 64)",
          "opacity": 0,
          "size": 1
         },
         "mode": "markers",
         "name": "",
         "showlegend": false,
         "text": [
          null,
          null,
          null,
          null,
          null,
          null,
          null,
          null
         ],
         "type": "scatter",
         "x": [
          1842,
          1949,
          1854,
          1911,
          1855,
          1938,
          1838,
          1929
         ],
         "y": [
          13,
          13,
          30,
          30,
          71,
          71,
          74,
          74
         ]
        },
        {
         "legendgroup": "rgb(76, 178, 76)",
         "marker": {
          "color": "rgb(76, 178, 76)",
          "opacity": 0,
          "size": 1
         },
         "mode": "markers",
         "name": "",
         "showlegend": false,
         "text": [
          null,
          null,
          null,
          null,
          null,
          null,
          null,
          null,
          null,
          null
         ],
         "type": "scatter",
         "x": [
          1897,
          1962,
          1845,
          1960,
          1884,
          1975,
          1899,
          1961,
          1884,
          1960
         ],
         "y": [
          9,
          9,
          10,
          10,
          55,
          55,
          58,
          58,
          72,
          72
         ]
        }
       ],
       "layout": {
        "height": 600,
        "hovermode": "closest",
        "showlegend": true,
        "template": {
         "data": {
          "bar": [
           {
            "error_x": {
             "color": "#2a3f5f"
            },
            "error_y": {
             "color": "#2a3f5f"
            },
            "marker": {
             "line": {
              "color": "#E5ECF6",
              "width": 0.5
             }
            },
            "type": "bar"
           }
          ],
          "barpolar": [
           {
            "marker": {
             "line": {
              "color": "#E5ECF6",
              "width": 0.5
             }
            },
            "type": "barpolar"
           }
          ],
          "carpet": [
           {
            "aaxis": {
             "endlinecolor": "#2a3f5f",
             "gridcolor": "white",
             "linecolor": "white",
             "minorgridcolor": "white",
             "startlinecolor": "#2a3f5f"
            },
            "baxis": {
             "endlinecolor": "#2a3f5f",
             "gridcolor": "white",
             "linecolor": "white",
             "minorgridcolor": "white",
             "startlinecolor": "#2a3f5f"
            },
            "type": "carpet"
           }
          ],
          "choropleth": [
           {
            "colorbar": {
             "outlinewidth": 0,
             "ticks": ""
            },
            "type": "choropleth"
           }
          ],
          "contour": [
           {
            "colorbar": {
             "outlinewidth": 0,
             "ticks": ""
            },
            "colorscale": [
             [
              0,
              "#0d0887"
             ],
             [
              0.1111111111111111,
              "#46039f"
             ],
             [
              0.2222222222222222,
              "#7201a8"
             ],
             [
              0.3333333333333333,
              "#9c179e"
             ],
             [
              0.4444444444444444,
              "#bd3786"
             ],
             [
              0.5555555555555556,
              "#d8576b"
             ],
             [
              0.6666666666666666,
              "#ed7953"
             ],
             [
              0.7777777777777778,
              "#fb9f3a"
             ],
             [
              0.8888888888888888,
              "#fdca26"
             ],
             [
              1,
              "#f0f921"
             ]
            ],
            "type": "contour"
           }
          ],
          "contourcarpet": [
           {
            "colorbar": {
             "outlinewidth": 0,
             "ticks": ""
            },
            "type": "contourcarpet"
           }
          ],
          "heatmap": [
           {
            "colorbar": {
             "outlinewidth": 0,
             "ticks": ""
            },
            "colorscale": [
             [
              0,
              "#0d0887"
             ],
             [
              0.1111111111111111,
              "#46039f"
             ],
             [
              0.2222222222222222,
              "#7201a8"
             ],
             [
              0.3333333333333333,
              "#9c179e"
             ],
             [
              0.4444444444444444,
              "#bd3786"
             ],
             [
              0.5555555555555556,
              "#d8576b"
             ],
             [
              0.6666666666666666,
              "#ed7953"
             ],
             [
              0.7777777777777778,
              "#fb9f3a"
             ],
             [
              0.8888888888888888,
              "#fdca26"
             ],
             [
              1,
              "#f0f921"
             ]
            ],
            "type": "heatmap"
           }
          ],
          "heatmapgl": [
           {
            "colorbar": {
             "outlinewidth": 0,
             "ticks": ""
            },
            "colorscale": [
             [
              0,
              "#0d0887"
             ],
             [
              0.1111111111111111,
              "#46039f"
             ],
             [
              0.2222222222222222,
              "#7201a8"
             ],
             [
              0.3333333333333333,
              "#9c179e"
             ],
             [
              0.4444444444444444,
              "#bd3786"
             ],
             [
              0.5555555555555556,
              "#d8576b"
             ],
             [
              0.6666666666666666,
              "#ed7953"
             ],
             [
              0.7777777777777778,
              "#fb9f3a"
             ],
             [
              0.8888888888888888,
              "#fdca26"
             ],
             [
              1,
              "#f0f921"
             ]
            ],
            "type": "heatmapgl"
           }
          ],
          "histogram": [
           {
            "marker": {
             "colorbar": {
              "outlinewidth": 0,
              "ticks": ""
             }
            },
            "type": "histogram"
           }
          ],
          "histogram2d": [
           {
            "colorbar": {
             "outlinewidth": 0,
             "ticks": ""
            },
            "colorscale": [
             [
              0,
              "#0d0887"
             ],
             [
              0.1111111111111111,
              "#46039f"
             ],
             [
              0.2222222222222222,
              "#7201a8"
             ],
             [
              0.3333333333333333,
              "#9c179e"
             ],
             [
              0.4444444444444444,
              "#bd3786"
             ],
             [
              0.5555555555555556,
              "#d8576b"
             ],
             [
              0.6666666666666666,
              "#ed7953"
             ],
             [
              0.7777777777777778,
              "#fb9f3a"
             ],
             [
              0.8888888888888888,
              "#fdca26"
             ],
             [
              1,
              "#f0f921"
             ]
            ],
            "type": "histogram2d"
           }
          ],
          "histogram2dcontour": [
           {
            "colorbar": {
             "outlinewidth": 0,
             "ticks": ""
            },
            "colorscale": [
             [
              0,
              "#0d0887"
             ],
             [
              0.1111111111111111,
              "#46039f"
             ],
             [
              0.2222222222222222,
              "#7201a8"
             ],
             [
              0.3333333333333333,
              "#9c179e"
             ],
             [
              0.4444444444444444,
              "#bd3786"
             ],
             [
              0.5555555555555556,
              "#d8576b"
             ],
             [
              0.6666666666666666,
              "#ed7953"
             ],
             [
              0.7777777777777778,
              "#fb9f3a"
             ],
             [
              0.8888888888888888,
              "#fdca26"
             ],
             [
              1,
              "#f0f921"
             ]
            ],
            "type": "histogram2dcontour"
           }
          ],
          "mesh3d": [
           {
            "colorbar": {
             "outlinewidth": 0,
             "ticks": ""
            },
            "type": "mesh3d"
           }
          ],
          "parcoords": [
           {
            "line": {
             "colorbar": {
              "outlinewidth": 0,
              "ticks": ""
             }
            },
            "type": "parcoords"
           }
          ],
          "scatter": [
           {
            "marker": {
             "colorbar": {
              "outlinewidth": 0,
              "ticks": ""
             }
            },
            "type": "scatter"
           }
          ],
          "scatter3d": [
           {
            "line": {
             "colorbar": {
              "outlinewidth": 0,
              "ticks": ""
             }
            },
            "marker": {
             "colorbar": {
              "outlinewidth": 0,
              "ticks": ""
             }
            },
            "type": "scatter3d"
           }
          ],
          "scattercarpet": [
           {
            "marker": {
             "colorbar": {
              "outlinewidth": 0,
              "ticks": ""
             }
            },
            "type": "scattercarpet"
           }
          ],
          "scattergeo": [
           {
            "marker": {
             "colorbar": {
              "outlinewidth": 0,
              "ticks": ""
             }
            },
            "type": "scattergeo"
           }
          ],
          "scattergl": [
           {
            "marker": {
             "colorbar": {
              "outlinewidth": 0,
              "ticks": ""
             }
            },
            "type": "scattergl"
           }
          ],
          "scattermapbox": [
           {
            "marker": {
             "colorbar": {
              "outlinewidth": 0,
              "ticks": ""
             }
            },
            "type": "scattermapbox"
           }
          ],
          "scatterpolar": [
           {
            "marker": {
             "colorbar": {
              "outlinewidth": 0,
              "ticks": ""
             }
            },
            "type": "scatterpolar"
           }
          ],
          "scatterpolargl": [
           {
            "marker": {
             "colorbar": {
              "outlinewidth": 0,
              "ticks": ""
             }
            },
            "type": "scatterpolargl"
           }
          ],
          "scatterternary": [
           {
            "marker": {
             "colorbar": {
              "outlinewidth": 0,
              "ticks": ""
             }
            },
            "type": "scatterternary"
           }
          ],
          "surface": [
           {
            "colorbar": {
             "outlinewidth": 0,
             "ticks": ""
            },
            "colorscale": [
             [
              0,
              "#0d0887"
             ],
             [
              0.1111111111111111,
              "#46039f"
             ],
             [
              0.2222222222222222,
              "#7201a8"
             ],
             [
              0.3333333333333333,
              "#9c179e"
             ],
             [
              0.4444444444444444,
              "#bd3786"
             ],
             [
              0.5555555555555556,
              "#d8576b"
             ],
             [
              0.6666666666666666,
              "#ed7953"
             ],
             [
              0.7777777777777778,
              "#fb9f3a"
             ],
             [
              0.8888888888888888,
              "#fdca26"
             ],
             [
              1,
              "#f0f921"
             ]
            ],
            "type": "surface"
           }
          ],
          "table": [
           {
            "cells": {
             "fill": {
              "color": "#EBF0F8"
             },
             "line": {
              "color": "white"
             }
            },
            "header": {
             "fill": {
              "color": "#C8D4E3"
             },
             "line": {
              "color": "white"
             }
            },
            "type": "table"
           }
          ]
         },
         "layout": {
          "annotationdefaults": {
           "arrowcolor": "#2a3f5f",
           "arrowhead": 0,
           "arrowwidth": 1
          },
          "colorscale": {
           "diverging": [
            [
             0,
             "#8e0152"
            ],
            [
             0.1,
             "#c51b7d"
            ],
            [
             0.2,
             "#de77ae"
            ],
            [
             0.3,
             "#f1b6da"
            ],
            [
             0.4,
             "#fde0ef"
            ],
            [
             0.5,
             "#f7f7f7"
            ],
            [
             0.6,
             "#e6f5d0"
            ],
            [
             0.7,
             "#b8e186"
            ],
            [
             0.8,
             "#7fbc41"
            ],
            [
             0.9,
             "#4d9221"
            ],
            [
             1,
             "#276419"
            ]
           ],
           "sequential": [
            [
             0,
             "#0d0887"
            ],
            [
             0.1111111111111111,
             "#46039f"
            ],
            [
             0.2222222222222222,
             "#7201a8"
            ],
            [
             0.3333333333333333,
             "#9c179e"
            ],
            [
             0.4444444444444444,
             "#bd3786"
            ],
            [
             0.5555555555555556,
             "#d8576b"
            ],
            [
             0.6666666666666666,
             "#ed7953"
            ],
            [
             0.7777777777777778,
             "#fb9f3a"
            ],
            [
             0.8888888888888888,
             "#fdca26"
            ],
            [
             1,
             "#f0f921"
            ]
           ],
           "sequentialminus": [
            [
             0,
             "#0d0887"
            ],
            [
             0.1111111111111111,
             "#46039f"
            ],
            [
             0.2222222222222222,
             "#7201a8"
            ],
            [
             0.3333333333333333,
             "#9c179e"
            ],
            [
             0.4444444444444444,
             "#bd3786"
            ],
            [
             0.5555555555555556,
             "#d8576b"
            ],
            [
             0.6666666666666666,
             "#ed7953"
            ],
            [
             0.7777777777777778,
             "#fb9f3a"
            ],
            [
             0.8888888888888888,
             "#fdca26"
            ],
            [
             1,
             "#f0f921"
            ]
           ]
          },
          "colorway": [
           "#636efa",
           "#EF553B",
           "#00cc96",
           "#ab63fa",
           "#FFA15A",
           "#19d3f3",
           "#FF6692",
           "#B6E880",
           "#FF97FF",
           "#FECB52"
          ],
          "font": {
           "color": "#2a3f5f"
          },
          "geo": {
           "bgcolor": "white",
           "lakecolor": "white",
           "landcolor": "#E5ECF6",
           "showlakes": true,
           "showland": true,
           "subunitcolor": "white"
          },
          "hoverlabel": {
           "align": "left"
          },
          "hovermode": "closest",
          "mapbox": {
           "style": "light"
          },
          "paper_bgcolor": "white",
          "plot_bgcolor": "#E5ECF6",
          "polar": {
           "angularaxis": {
            "gridcolor": "white",
            "linecolor": "white",
            "ticks": ""
           },
           "bgcolor": "#E5ECF6",
           "radialaxis": {
            "gridcolor": "white",
            "linecolor": "white",
            "ticks": ""
           }
          },
          "scene": {
           "xaxis": {
            "backgroundcolor": "#E5ECF6",
            "gridcolor": "white",
            "gridwidth": 2,
            "linecolor": "white",
            "showbackground": true,
            "ticks": "",
            "zerolinecolor": "white"
           },
           "yaxis": {
            "backgroundcolor": "#E5ECF6",
            "gridcolor": "white",
            "gridwidth": 2,
            "linecolor": "white",
            "showbackground": true,
            "ticks": "",
            "zerolinecolor": "white"
           },
           "zaxis": {
            "backgroundcolor": "#E5ECF6",
            "gridcolor": "white",
            "gridwidth": 2,
            "linecolor": "white",
            "showbackground": true,
            "ticks": "",
            "zerolinecolor": "white"
           }
          },
          "shapedefaults": {
           "line": {
            "color": "#2a3f5f"
           }
          },
          "ternary": {
           "aaxis": {
            "gridcolor": "white",
            "linecolor": "white",
            "ticks": ""
           },
           "baxis": {
            "gridcolor": "white",
            "linecolor": "white",
            "ticks": ""
           },
           "bgcolor": "#E5ECF6",
           "caxis": {
            "gridcolor": "white",
            "linecolor": "white",
            "ticks": ""
           }
          },
          "title": {
           "x": 0.05
          },
          "xaxis": {
           "automargin": true,
           "gridcolor": "white",
           "linecolor": "white",
           "ticks": "",
           "zerolinecolor": "white",
           "zerolinewidth": 2
          },
          "yaxis": {
           "automargin": true,
           "gridcolor": "white",
           "linecolor": "white",
           "ticks": "",
           "zerolinecolor": "white",
           "zerolinewidth": 2
          }
         }
        },
        "title": {
         "text": "Gantt Chart"
        },
        "width": 900,
        "xaxis": {
         "rangeselector": {
          "buttons": [
           {
            "count": 7,
            "label": "1w",
            "step": "day",
            "stepmode": "backward"
           },
           {
            "count": 1,
            "label": "1m",
            "step": "month",
            "stepmode": "backward"
           },
           {
            "count": 6,
            "label": "6m",
            "step": "month",
            "stepmode": "backward"
           },
           {
            "count": 1,
            "label": "YTD",
            "step": "year",
            "stepmode": "todate"
           },
           {
            "count": 1,
            "label": "1y",
            "step": "year",
            "stepmode": "backward"
           },
           {
            "step": "all"
           }
          ]
         },
         "showgrid": false,
         "type": "date",
         "zeroline": false
        },
        "yaxis": {
         "autorange": false,
         "range": [
          -1,
          83
         ],
         "showgrid": false,
         "ticktext": [
          "UKAfghanistan",
          "FAlgeria",
          "PAngola",
          "UKBahrain",
          "UKBangladesh",
          "FBenin",
          "UKBhutan",
          "UKBotswana",
          "FBurkina Faso",
          "GBurundi",
          "GCameroon",
          "FCentral Afr. Rep",
          "FChad",
          "semicol.China",
          "FCongo",
          "FDjibouti",
          "FEgypt",
          "PEquatorial Guinea",
          "UKEthiopia",
          "UKFiji",
          "FGabon",
          "UKGambia",
          "UKGhana",
          "FGuinea",
          "PGuinea-Bissau",
          "UKIndia",
          "NLIndonesia",
          "UKIran",
          "UKIraq",
          "FIvory Coast",
          "semicol.Japan",
          "UKJordan",
          "FCambodia",
          "PKenya",
          "JPKorea, N",
          "JPKorea, S",
          "UKKuwait",
          "FLaos",
          "FLebanon",
          "UKLesotho",
          "USALiberia",
          "ILibya",
          "FMalagasy",
          "UKMalawi",
          "PMalaysia",
          "FMali",
          "FMauritania",
          "FMorocco",
          "PMozambique",
          "UKMyarnuar/Burma",
          "UKNepal",
          "FNiger",
          "UKNigeria",
          "POman",
          "UKPakistan",
          "GPapua N Guinea",
          "SPPhilippines",
          "UKQatar",
          "GRwanda",
          "UKSaudi Arabia",
          "FSenegal",
          "UKSierra L",
          "UKSolomon Islands",
          "PSomalia",
          "NLSouth Africa",
          "UKSri Lanka",
          "UKSudan",
          "settlerSwaziland",
          "FSyria",
          "NLTaiwan",
          "PTanzania",
          "semicol.Thailand",
          "GTogo",
          "FTunisia",
          "semicol.Turkey",
          "UKUganda",
          "UKUAE",
          "UKVanuatu",
          "FVietnam",
          "BZaire",
          "UKZambia",
          "PZimbabwe"
         ],
         "tickvals": [
          0,
          1,
          2,
          3,
          4,
          5,
          6,
          7,
          8,
          9,
          10,
          11,
          12,
          13,
          14,
          15,
          16,
          17,
          18,
          19,
          20,
          21,
          22,
          23,
          24,
          25,
          26,
          27,
          28,
          29,
          30,
          31,
          32,
          33,
          34,
          35,
          36,
          37,
          38,
          39,
          40,
          41,
          42,
          43,
          44,
          45,
          46,
          47,
          48,
          49,
          50,
          51,
          52,
          53,
          54,
          55,
          56,
          57,
          58,
          59,
          60,
          61,
          62,
          63,
          64,
          65,
          66,
          67,
          68,
          69,
          70,
          71,
          72,
          73,
          74,
          75,
          76,
          77,
          78,
          79,
          80,
          81
         ],
         "zeroline": false
        }
       }
      },
      "text/html": [
       "<div>\n",
       "        \n",
       "        \n",
       "            <div id=\"aec1cb8e-b3b2-4293-93ae-5bf6df2e09df\" class=\"plotly-graph-div\" style=\"height:600px; width:900px;\"></div>\n",
       "            <script type=\"text/javascript\">\n",
       "                require([\"plotly\"], function(Plotly) {\n",
       "                    window.PLOTLYENV=window.PLOTLYENV || {};\n",
       "                    \n",
       "                if (document.getElementById(\"aec1cb8e-b3b2-4293-93ae-5bf6df2e09df\")) {\n",
       "                    Plotly.newPlot(\n",
       "                        'aec1cb8e-b3b2-4293-93ae-5bf6df2e09df',\n",
       "                        [{\"fill\": \"toself\", \"fillcolor\": \"rgb(102, 153, 102)\", \"hoverinfo\": \"name\", \"legendgroup\": \"rgb(102, 153, 102)\", \"mode\": \"none\", \"name\": \"I\", \"showlegend\": true, \"type\": \"scatter\", \"x\": [1911, 1951, 1951, 1911], \"y\": [40.8, 40.8, 41.2, 41.2]}, {\"fill\": \"toself\", \"fillcolor\": \"rgb(128, 128, 128)\", \"hoverinfo\": \"name\", \"legendgroup\": \"rgb(128, 128, 128)\", \"mode\": \"none\", \"name\": \"JP\", \"showlegend\": true, \"type\": \"scatter\", \"x\": [1876, 1945, 1945, 1876, 1876, 1876, 1945, 1945, 1876], \"y\": [33.8, 33.8, 34.2, 34.2, null, 34.8, 34.8, 35.2, 35.2]}, {\"fill\": \"toself\", \"fillcolor\": \"rgb(153, 102, 153)\", \"hoverinfo\": \"name\", \"legendgroup\": \"rgb(153, 102, 153)\", \"mode\": \"none\", \"name\": \"NL\", \"showlegend\": true, \"type\": \"scatter\", \"x\": [1619, 1962, 1962, 1619, 1619, 1652, 1994, 1994, 1652, 1652, 1624, 1945, 1945, 1624], \"y\": [25.8, 25.8, 26.2, 26.2, null, 63.8, 63.8, 64.2, 64.2, null, 68.8, 68.8, 69.2, 69.2]}, {\"fill\": \"toself\", \"fillcolor\": \"rgb(178, 77, 178)\", \"hoverinfo\": \"name\", \"legendgroup\": \"rgb(178, 77, 178)\", \"mode\": \"none\", \"name\": \"P\", \"showlegend\": true, \"type\": \"scatter\", \"x\": [1573, 1975, 1975, 1573, 1573, 1507, 1968, 1968, 1507, 1507, 1616, 1974, 1974, 1616, 1616, 1505, 1963, 1963, 1505, 1505, 1511, 1963, 1963, 1511, 1511, 1505, 1975, 1975, 1505, 1505, 1507, 1971, 1971, 1507, 1507, 1506, 1960, 1960, 1506, 1506, 1502, 1963, 1963, 1502, 1502, 1560, 1980, 1980, 1560], \"y\": [1.8, 1.8, 2.2, 2.2, null, 16.8, 16.8, 17.2, 17.2, null, 23.8, 23.8, 24.2, 24.2, null, 32.8, 32.8, 33.2, 33.2, null, 43.8, 43.8, 44.2, 44.2, null, 47.8, 47.8, 48.2, 48.2, null, 52.8, 52.8, 53.2, 53.2, null, 62.8, 62.8, 63.2, 63.2, null, 69.8, 69.8, 70.2, 70.2, null, 80.8, 80.8, 81.2, 81.2]}, {\"fill\": \"toself\", \"fillcolor\": \"rgb(191, 191, 191)\", \"hoverinfo\": \"name\", \"legendgroup\": \"rgb(191, 191, 191)\", \"mode\": \"none\", \"name\": \"settler\", \"showlegend\": true, \"type\": \"scatter\", \"x\": [1880, 1968, 1968, 1880], \"y\": [66.8, 66.8, 67.2, 67.2]}, {\"fill\": \"toself\", \"fillcolor\": \"rgb(204, 51, 204)\", \"hoverinfo\": \"name\", \"legendgroup\": \"rgb(204, 51, 204)\", \"mode\": \"none\", \"name\": \"SP\", \"showlegend\": true, \"type\": \"scatter\", \"x\": [1565, 1946, 1946, 1565], \"y\": [55.8, 55.8, 56.2, 56.2]}, {\"fill\": \"toself\", \"fillcolor\": \"rgb(230, 25, 230)\", \"hoverinfo\": \"name\", \"legendgroup\": \"rgb(230, 25, 230)\", \"mode\": \"none\", \"name\": \"UK\", \"showlegend\": true, \"type\": \"scatter\", \"x\": [1880, 1919, 1919, 1880, 1880, 1860, 1971, 1971, 1860, 1860, 1757, 1947, 1947, 1757, 1757, 1866, 1949, 1949, 1866, 1866, 1885, 1966, 1966, 1885, 1885, 1908, 1954, 1954, 1908, 1908, 1874, 1970, 1970, 1874, 1874, 1816, 1965, 1965, 1816, 1816, 1756, 1957, 1957, 1756, 1756, 1757, 1947, 1947, 1757, 1757, 1828, 1921, 1921, 1828, 1828, 1914, 1958, 1958, 1914, 1914, 1918, 1956, 1956, 1918, 1918, 1899, 1961, 1961, 1899, 1899, 1845, 1966, 1966, 1845, 1845, 1885, 1964, 1964, 1885, 1885, 1826, 1948, 1948, 1826, 1826, 1816, 1947, 1947, 1816, 1816, 1851, 1960, 1960, 1851, 1851, 1843, 1947, 1947, 1843, 1843, 1916, 1971, 1971, 1916, 1916, 1915, 1927, 1927, 1915, 1915, 1787, 1961, 1961, 1787, 1787, 1885, 1978, 1978, 1885, 1885, 1597, 1948, 1948, 1597, 1597, 1882, 1956, 1956, 1882, 1882, 1890, 1962, 1962, 1890, 1890, 1850, 1971, 1971, 1850, 1850, 1887, 1980, 1980, 1887, 1887, 1889, 1964, 1964, 1889], \"y\": [-0.2, -0.2, 0.2, 0.2, null, 2.8, 2.8, 3.2, 3.2, null, 3.8, 3.8, 4.2, 4.2, null, 5.8, 5.8, 6.2, 6.2, null, 6.8, 6.8, 7.2, 7.2, null, 17.8, 17.8, 18.2, 18.2, null, 18.8, 18.8, 19.2, 19.2, null, 20.8, 20.8, 21.2, 21.2, null, 21.8, 21.8, 22.2, 22.2, null, 24.8, 24.8, 25.2, 25.2, null, 26.8, 26.8, 27.2, 27.2, null, 27.8, 27.8, 28.2, 28.2, null, 30.8, 30.8, 31.2, 31.2, null, 35.8, 35.8, 36.2, 36.2, null, 38.8, 38.8, 39.2, 39.2, null, 42.8, 42.8, 43.2, 43.2, null, 48.8, 48.8, 49.2, 49.2, null, 49.8, 49.8, 50.2, 50.2, null, 51.8, 51.8, 52.2, 52.2, null, 53.8, 53.8, 54.2, 54.2, null, 56.8, 56.8, 57.2, 57.2, null, 58.8, 58.8, 59.2, 59.2, null, 60.8, 60.8, 61.2, 61.2, null, 61.8, 61.8, 62.2, 62.2, null, 64.8, 64.8, 65.2, 65.2, null, 65.8, 65.8, 66.2, 66.2, null, 74.8, 74.8, 75.2, 75.2, null, 75.8, 75.8, 76.2, 76.2, null, 76.8, 76.8, 77.2, 77.2, null, 79.8, 79.8, 80.2, 80.2]}, {\"fill\": \"toself\", \"fillcolor\": \"rgb(255, 0, 255)\", \"hoverinfo\": \"name\", \"legendgroup\": \"rgb(255, 0, 255)\", \"mode\": \"none\", \"name\": \"USA\", \"showlegend\": true, \"type\": \"scatter\", \"x\": [1821, 1976, 1976, 1821], \"y\": [39.8, 39.8, 40.2, 40.2]}, {\"fill\": \"toself\", \"fillcolor\": \"rgb(26, 230, 26)\", \"hoverinfo\": \"name\", \"legendgroup\": \"rgb(26, 230, 26)\", \"mode\": \"none\", \"name\": \"B\", \"showlegend\": true, \"type\": \"scatter\", \"x\": [1879, 1960, 1960, 1879], \"y\": [78.8, 78.8, 79.2, 79.2]}, {\"fill\": \"toself\", \"fillcolor\": \"rgb(51, 204, 51)\", \"hoverinfo\": \"name\", \"legendgroup\": \"rgb(51, 204, 51)\", \"mode\": \"none\", \"name\": \"F\", \"showlegend\": true, \"type\": \"scatter\", \"x\": [1830, 1962, 1962, 1830, 1830, 1878, 1960, 1960, 1878, 1878, 1895, 1960, 1960, 1895, 1895, 1890, 1960, 1960, 1890, 1890, 1900, 1960, 1960, 1900, 1900, 1880, 1960, 1960, 1880, 1880, 1862, 1977, 1977, 1862, 1862, 1876, 1956, 1956, 1876, 1876, 1852, 1960, 1960, 1852, 1852, 1865, 1958, 1958, 1865, 1865, 1839, 1960, 1960, 1839, 1839, 1863, 1955, 1955, 1863, 1863, 1893, 1955, 1955, 1893, 1893, 1860, 1944, 1944, 1860, 1860, 1642, 1960, 1960, 1642, 1642, 1880, 1960, 1960, 1880, 1880, 1858, 1960, 1960, 1858, 1858, 1903, 1956, 1956, 1903, 1903, 1897, 1960, 1960, 1897, 1897, 1816, 1906, 1906, 1816, 1816, 1918, 1946, 1946, 1918, 1918, 1869, 1956, 1956, 1869, 1869, 1859, 1956, 1956, 1859], \"y\": [0.8, 0.8, 1.2, 1.2, null, 4.8, 4.8, 5.2, 5.2, null, 7.8, 7.8, 8.2, 8.2, null, 10.8, 10.8, 11.2, 11.2, null, 11.8, 11.8, 12.2, 12.2, null, 13.8, 13.8, 14.2, 14.2, null, 14.8, 14.8, 15.2, 15.2, null, 15.8, 15.8, 16.2, 16.2, null, 19.8, 19.8, 20.2, 20.2, null, 22.8, 22.8, 23.2, 23.2, null, 28.8, 28.8, 29.2, 29.2, null, 31.8, 31.8, 32.2, 32.2, null, 36.8, 36.8, 37.2, 37.2, null, 37.8, 37.8, 38.2, 38.2, null, 41.8, 41.8, 42.2, 42.2, null, 44.8, 44.8, 45.2, 45.2, null, 45.8, 45.8, 46.2, 46.2, null, 46.8, 46.8, 47.2, 47.2, null, 50.8, 50.8, 51.2, 51.2, null, 59.8, 59.8, 60.2, 60.2, null, 67.8, 67.8, 68.2, 68.2, null, 72.8, 72.8, 73.2, 73.2, null, 77.8, 77.8, 78.2, 78.2]}, {\"fill\": \"toself\", \"fillcolor\": \"rgb(64, 64, 64)\", \"hoverinfo\": \"name\", \"legendgroup\": \"rgb(64, 64, 64)\", \"mode\": \"none\", \"name\": \"semicol.\", \"showlegend\": true, \"type\": \"scatter\", \"x\": [1842, 1949, 1949, 1842, 1842, 1854, 1911, 1911, 1854, 1854, 1855, 1938, 1938, 1855, 1855, 1838, 1929, 1929, 1838], \"y\": [12.8, 12.8, 13.2, 13.2, null, 29.8, 29.8, 30.2, 30.2, null, 70.8, 70.8, 71.2, 71.2, null, 73.8, 73.8, 74.2, 74.2]}, {\"fill\": \"toself\", \"fillcolor\": \"rgb(76, 178, 76)\", \"hoverinfo\": \"name\", \"legendgroup\": \"rgb(76, 178, 76)\", \"mode\": \"none\", \"name\": \"G\", \"showlegend\": true, \"type\": \"scatter\", \"x\": [1897, 1962, 1962, 1897, 1897, 1845, 1960, 1960, 1845, 1845, 1884, 1975, 1975, 1884, 1884, 1899, 1961, 1961, 1899, 1899, 1884, 1960, 1960, 1884], \"y\": [8.8, 8.8, 9.2, 9.2, null, 9.8, 9.8, 10.2, 10.2, null, 54.8, 54.8, 55.2, 55.2, null, 57.8, 57.8, 58.2, 58.2, null, 71.8, 71.8, 72.2, 72.2]}, {\"legendgroup\": \"rgb(102, 153, 102)\", \"marker\": {\"color\": \"rgb(102, 153, 102)\", \"opacity\": 0, \"size\": 1}, \"mode\": \"markers\", \"name\": \"\", \"showlegend\": false, \"text\": [null, null], \"type\": \"scatter\", \"x\": [1911, 1951], \"y\": [41, 41]}, {\"legendgroup\": \"rgb(128, 128, 128)\", \"marker\": {\"color\": \"rgb(128, 128, 128)\", \"opacity\": 0, \"size\": 1}, \"mode\": \"markers\", \"name\": \"\", \"showlegend\": false, \"text\": [null, null, null, null], \"type\": \"scatter\", \"x\": [1876, 1945, 1876, 1945], \"y\": [34, 34, 35, 35]}, {\"legendgroup\": \"rgb(153, 102, 153)\", \"marker\": {\"color\": \"rgb(153, 102, 153)\", \"opacity\": 0, \"size\": 1}, \"mode\": \"markers\", \"name\": \"\", \"showlegend\": false, \"text\": [null, null, null, null, null, null], \"type\": \"scatter\", \"x\": [1619, 1962, 1652, 1994, 1624, 1945], \"y\": [26, 26, 64, 64, 69, 69]}, {\"legendgroup\": \"rgb(178, 77, 178)\", \"marker\": {\"color\": \"rgb(178, 77, 178)\", \"opacity\": 0, \"size\": 1}, \"mode\": \"markers\", \"name\": \"\", \"showlegend\": false, \"text\": [null, null, null, null, null, null, null, null, null, null, null, null, null, null, null, null, null, null, null, null], \"type\": \"scatter\", \"x\": [1573, 1975, 1507, 1968, 1616, 1974, 1505, 1963, 1511, 1963, 1505, 1975, 1507, 1971, 1506, 1960, 1502, 1963, 1560, 1980], \"y\": [2, 2, 17, 17, 24, 24, 33, 33, 44, 44, 48, 48, 53, 53, 63, 63, 70, 70, 81, 81]}, {\"legendgroup\": \"rgb(191, 191, 191)\", \"marker\": {\"color\": \"rgb(191, 191, 191)\", \"opacity\": 0, \"size\": 1}, \"mode\": \"markers\", \"name\": \"\", \"showlegend\": false, \"text\": [null, null], \"type\": \"scatter\", \"x\": [1880, 1968], \"y\": [67, 67]}, {\"legendgroup\": \"rgb(204, 51, 204)\", \"marker\": {\"color\": \"rgb(204, 51, 204)\", \"opacity\": 0, \"size\": 1}, \"mode\": \"markers\", \"name\": \"\", \"showlegend\": false, \"text\": [null, null], \"type\": \"scatter\", \"x\": [1565, 1946], \"y\": [56, 56]}, {\"legendgroup\": \"rgb(230, 25, 230)\", \"marker\": {\"color\": \"rgb(230, 25, 230)\", \"opacity\": 0, \"size\": 1}, \"mode\": \"markers\", \"name\": \"\", \"showlegend\": false, \"text\": [null, null, null, null, null, null, null, null, null, null, null, null, null, null, null, null, null, null, null, null, null, null, null, null, null, null, null, null, null, null, null, null, null, null, null, null, null, null, null, null, null, null, null, null, null, null, null, null, null, null, null, null, null, null, null, null, null, null, null, null], \"type\": \"scatter\", \"x\": [1880, 1919, 1860, 1971, 1757, 1947, 1866, 1949, 1885, 1966, 1908, 1954, 1874, 1970, 1816, 1965, 1756, 1957, 1757, 1947, 1828, 1921, 1914, 1958, 1918, 1956, 1899, 1961, 1845, 1966, 1885, 1964, 1826, 1948, 1816, 1947, 1851, 1960, 1843, 1947, 1916, 1971, 1915, 1927, 1787, 1961, 1885, 1978, 1597, 1948, 1882, 1956, 1890, 1962, 1850, 1971, 1887, 1980, 1889, 1964], \"y\": [0, 0, 3, 3, 4, 4, 6, 6, 7, 7, 18, 18, 19, 19, 21, 21, 22, 22, 25, 25, 27, 27, 28, 28, 31, 31, 36, 36, 39, 39, 43, 43, 49, 49, 50, 50, 52, 52, 54, 54, 57, 57, 59, 59, 61, 61, 62, 62, 65, 65, 66, 66, 75, 75, 76, 76, 77, 77, 80, 80]}, {\"legendgroup\": \"rgb(255, 0, 255)\", \"marker\": {\"color\": \"rgb(255, 0, 255)\", \"opacity\": 0, \"size\": 1}, \"mode\": \"markers\", \"name\": \"\", \"showlegend\": false, \"text\": [null, null], \"type\": \"scatter\", \"x\": [1821, 1976], \"y\": [40, 40]}, {\"legendgroup\": \"rgb(26, 230, 26)\", \"marker\": {\"color\": \"rgb(26, 230, 26)\", \"opacity\": 0, \"size\": 1}, \"mode\": \"markers\", \"name\": \"\", \"showlegend\": false, \"text\": [null, null], \"type\": \"scatter\", \"x\": [1879, 1960], \"y\": [79, 79]}, {\"legendgroup\": \"rgb(51, 204, 51)\", \"marker\": {\"color\": \"rgb(51, 204, 51)\", \"opacity\": 0, \"size\": 1}, \"mode\": \"markers\", \"name\": \"\", \"showlegend\": false, \"text\": [null, null, null, null, null, null, null, null, null, null, null, null, null, null, null, null, null, null, null, null, null, null, null, null, null, null, null, null, null, null, null, null, null, null, null, null, null, null, null, null, null, null, null, null, null, null], \"type\": \"scatter\", \"x\": [1830, 1962, 1878, 1960, 1895, 1960, 1890, 1960, 1900, 1960, 1880, 1960, 1862, 1977, 1876, 1956, 1852, 1960, 1865, 1958, 1839, 1960, 1863, 1955, 1893, 1955, 1860, 1944, 1642, 1960, 1880, 1960, 1858, 1960, 1903, 1956, 1897, 1960, 1816, 1906, 1918, 1946, 1869, 1956, 1859, 1956], \"y\": [1, 1, 5, 5, 8, 8, 11, 11, 12, 12, 14, 14, 15, 15, 16, 16, 20, 20, 23, 23, 29, 29, 32, 32, 37, 37, 38, 38, 42, 42, 45, 45, 46, 46, 47, 47, 51, 51, 60, 60, 68, 68, 73, 73, 78, 78]}, {\"legendgroup\": \"rgb(64, 64, 64)\", \"marker\": {\"color\": \"rgb(64, 64, 64)\", \"opacity\": 0, \"size\": 1}, \"mode\": \"markers\", \"name\": \"\", \"showlegend\": false, \"text\": [null, null, null, null, null, null, null, null], \"type\": \"scatter\", \"x\": [1842, 1949, 1854, 1911, 1855, 1938, 1838, 1929], \"y\": [13, 13, 30, 30, 71, 71, 74, 74]}, {\"legendgroup\": \"rgb(76, 178, 76)\", \"marker\": {\"color\": \"rgb(76, 178, 76)\", \"opacity\": 0, \"size\": 1}, \"mode\": \"markers\", \"name\": \"\", \"showlegend\": false, \"text\": [null, null, null, null, null, null, null, null, null, null], \"type\": \"scatter\", \"x\": [1897, 1962, 1845, 1960, 1884, 1975, 1899, 1961, 1884, 1960], \"y\": [9, 9, 10, 10, 55, 55, 58, 58, 72, 72]}],\n",
       "                        {\"height\": 600, \"hovermode\": \"closest\", \"showlegend\": true, \"template\": {\"data\": {\"bar\": [{\"error_x\": {\"color\": \"#2a3f5f\"}, \"error_y\": {\"color\": \"#2a3f5f\"}, \"marker\": {\"line\": {\"color\": \"#E5ECF6\", \"width\": 0.5}}, \"type\": \"bar\"}], \"barpolar\": [{\"marker\": {\"line\": {\"color\": \"#E5ECF6\", \"width\": 0.5}}, \"type\": \"barpolar\"}], \"carpet\": [{\"aaxis\": {\"endlinecolor\": \"#2a3f5f\", \"gridcolor\": \"white\", \"linecolor\": \"white\", \"minorgridcolor\": \"white\", \"startlinecolor\": \"#2a3f5f\"}, \"baxis\": {\"endlinecolor\": \"#2a3f5f\", \"gridcolor\": \"white\", \"linecolor\": \"white\", \"minorgridcolor\": \"white\", \"startlinecolor\": \"#2a3f5f\"}, \"type\": \"carpet\"}], \"choropleth\": [{\"colorbar\": {\"outlinewidth\": 0, \"ticks\": \"\"}, \"type\": \"choropleth\"}], \"contour\": [{\"colorbar\": {\"outlinewidth\": 0, \"ticks\": \"\"}, \"colorscale\": [[0.0, \"#0d0887\"], [0.1111111111111111, \"#46039f\"], [0.2222222222222222, \"#7201a8\"], [0.3333333333333333, \"#9c179e\"], [0.4444444444444444, \"#bd3786\"], [0.5555555555555556, \"#d8576b\"], [0.6666666666666666, \"#ed7953\"], [0.7777777777777778, \"#fb9f3a\"], [0.8888888888888888, \"#fdca26\"], [1.0, \"#f0f921\"]], \"type\": \"contour\"}], \"contourcarpet\": [{\"colorbar\": {\"outlinewidth\": 0, \"ticks\": \"\"}, \"type\": \"contourcarpet\"}], \"heatmap\": [{\"colorbar\": {\"outlinewidth\": 0, \"ticks\": \"\"}, \"colorscale\": [[0.0, \"#0d0887\"], [0.1111111111111111, \"#46039f\"], [0.2222222222222222, \"#7201a8\"], [0.3333333333333333, \"#9c179e\"], [0.4444444444444444, \"#bd3786\"], [0.5555555555555556, \"#d8576b\"], [0.6666666666666666, \"#ed7953\"], [0.7777777777777778, \"#fb9f3a\"], [0.8888888888888888, \"#fdca26\"], [1.0, \"#f0f921\"]], \"type\": \"heatmap\"}], \"heatmapgl\": [{\"colorbar\": {\"outlinewidth\": 0, \"ticks\": \"\"}, \"colorscale\": [[0.0, \"#0d0887\"], [0.1111111111111111, \"#46039f\"], [0.2222222222222222, \"#7201a8\"], [0.3333333333333333, \"#9c179e\"], [0.4444444444444444, \"#bd3786\"], [0.5555555555555556, \"#d8576b\"], [0.6666666666666666, \"#ed7953\"], [0.7777777777777778, \"#fb9f3a\"], [0.8888888888888888, \"#fdca26\"], [1.0, \"#f0f921\"]], \"type\": \"heatmapgl\"}], \"histogram\": [{\"marker\": {\"colorbar\": {\"outlinewidth\": 0, \"ticks\": \"\"}}, \"type\": \"histogram\"}], \"histogram2d\": [{\"colorbar\": {\"outlinewidth\": 0, \"ticks\": \"\"}, \"colorscale\": [[0.0, \"#0d0887\"], [0.1111111111111111, \"#46039f\"], [0.2222222222222222, \"#7201a8\"], [0.3333333333333333, \"#9c179e\"], [0.4444444444444444, \"#bd3786\"], [0.5555555555555556, \"#d8576b\"], [0.6666666666666666, \"#ed7953\"], [0.7777777777777778, \"#fb9f3a\"], [0.8888888888888888, \"#fdca26\"], [1.0, \"#f0f921\"]], \"type\": \"histogram2d\"}], \"histogram2dcontour\": [{\"colorbar\": {\"outlinewidth\": 0, \"ticks\": \"\"}, \"colorscale\": [[0.0, \"#0d0887\"], [0.1111111111111111, \"#46039f\"], [0.2222222222222222, \"#7201a8\"], [0.3333333333333333, \"#9c179e\"], [0.4444444444444444, \"#bd3786\"], [0.5555555555555556, \"#d8576b\"], [0.6666666666666666, \"#ed7953\"], [0.7777777777777778, \"#fb9f3a\"], [0.8888888888888888, \"#fdca26\"], [1.0, \"#f0f921\"]], \"type\": \"histogram2dcontour\"}], \"mesh3d\": [{\"colorbar\": {\"outlinewidth\": 0, \"ticks\": \"\"}, \"type\": \"mesh3d\"}], \"parcoords\": [{\"line\": {\"colorbar\": {\"outlinewidth\": 0, \"ticks\": \"\"}}, \"type\": \"parcoords\"}], \"scatter\": [{\"marker\": {\"colorbar\": {\"outlinewidth\": 0, \"ticks\": \"\"}}, \"type\": \"scatter\"}], \"scatter3d\": [{\"line\": {\"colorbar\": {\"outlinewidth\": 0, \"ticks\": \"\"}}, \"marker\": {\"colorbar\": {\"outlinewidth\": 0, \"ticks\": \"\"}}, \"type\": \"scatter3d\"}], \"scattercarpet\": [{\"marker\": {\"colorbar\": {\"outlinewidth\": 0, \"ticks\": \"\"}}, \"type\": \"scattercarpet\"}], \"scattergeo\": [{\"marker\": {\"colorbar\": {\"outlinewidth\": 0, \"ticks\": \"\"}}, \"type\": \"scattergeo\"}], \"scattergl\": [{\"marker\": {\"colorbar\": {\"outlinewidth\": 0, \"ticks\": \"\"}}, \"type\": \"scattergl\"}], \"scattermapbox\": [{\"marker\": {\"colorbar\": {\"outlinewidth\": 0, \"ticks\": \"\"}}, \"type\": \"scattermapbox\"}], \"scatterpolar\": [{\"marker\": {\"colorbar\": {\"outlinewidth\": 0, \"ticks\": \"\"}}, \"type\": \"scatterpolar\"}], \"scatterpolargl\": [{\"marker\": {\"colorbar\": {\"outlinewidth\": 0, \"ticks\": \"\"}}, \"type\": \"scatterpolargl\"}], \"scatterternary\": [{\"marker\": {\"colorbar\": {\"outlinewidth\": 0, \"ticks\": \"\"}}, \"type\": \"scatterternary\"}], \"surface\": [{\"colorbar\": {\"outlinewidth\": 0, \"ticks\": \"\"}, \"colorscale\": [[0.0, \"#0d0887\"], [0.1111111111111111, \"#46039f\"], [0.2222222222222222, \"#7201a8\"], [0.3333333333333333, \"#9c179e\"], [0.4444444444444444, \"#bd3786\"], [0.5555555555555556, \"#d8576b\"], [0.6666666666666666, \"#ed7953\"], [0.7777777777777778, \"#fb9f3a\"], [0.8888888888888888, \"#fdca26\"], [1.0, \"#f0f921\"]], \"type\": \"surface\"}], \"table\": [{\"cells\": {\"fill\": {\"color\": \"#EBF0F8\"}, \"line\": {\"color\": \"white\"}}, \"header\": {\"fill\": {\"color\": \"#C8D4E3\"}, \"line\": {\"color\": \"white\"}}, \"type\": \"table\"}]}, \"layout\": {\"annotationdefaults\": {\"arrowcolor\": \"#2a3f5f\", \"arrowhead\": 0, \"arrowwidth\": 1}, \"colorscale\": {\"diverging\": [[0, \"#8e0152\"], [0.1, \"#c51b7d\"], [0.2, \"#de77ae\"], [0.3, \"#f1b6da\"], [0.4, \"#fde0ef\"], [0.5, \"#f7f7f7\"], [0.6, \"#e6f5d0\"], [0.7, \"#b8e186\"], [0.8, \"#7fbc41\"], [0.9, \"#4d9221\"], [1, \"#276419\"]], \"sequential\": [[0.0, \"#0d0887\"], [0.1111111111111111, \"#46039f\"], [0.2222222222222222, \"#7201a8\"], [0.3333333333333333, \"#9c179e\"], [0.4444444444444444, \"#bd3786\"], [0.5555555555555556, \"#d8576b\"], [0.6666666666666666, \"#ed7953\"], [0.7777777777777778, \"#fb9f3a\"], [0.8888888888888888, \"#fdca26\"], [1.0, \"#f0f921\"]], \"sequentialminus\": [[0.0, \"#0d0887\"], [0.1111111111111111, \"#46039f\"], [0.2222222222222222, \"#7201a8\"], [0.3333333333333333, \"#9c179e\"], [0.4444444444444444, \"#bd3786\"], [0.5555555555555556, \"#d8576b\"], [0.6666666666666666, \"#ed7953\"], [0.7777777777777778, \"#fb9f3a\"], [0.8888888888888888, \"#fdca26\"], [1.0, \"#f0f921\"]]}, \"colorway\": [\"#636efa\", \"#EF553B\", \"#00cc96\", \"#ab63fa\", \"#FFA15A\", \"#19d3f3\", \"#FF6692\", \"#B6E880\", \"#FF97FF\", \"#FECB52\"], \"font\": {\"color\": \"#2a3f5f\"}, \"geo\": {\"bgcolor\": \"white\", \"lakecolor\": \"white\", \"landcolor\": \"#E5ECF6\", \"showlakes\": true, \"showland\": true, \"subunitcolor\": \"white\"}, \"hoverlabel\": {\"align\": \"left\"}, \"hovermode\": \"closest\", \"mapbox\": {\"style\": \"light\"}, \"paper_bgcolor\": \"white\", \"plot_bgcolor\": \"#E5ECF6\", \"polar\": {\"angularaxis\": {\"gridcolor\": \"white\", \"linecolor\": \"white\", \"ticks\": \"\"}, \"bgcolor\": \"#E5ECF6\", \"radialaxis\": {\"gridcolor\": \"white\", \"linecolor\": \"white\", \"ticks\": \"\"}}, \"scene\": {\"xaxis\": {\"backgroundcolor\": \"#E5ECF6\", \"gridcolor\": \"white\", \"gridwidth\": 2, \"linecolor\": \"white\", \"showbackground\": true, \"ticks\": \"\", \"zerolinecolor\": \"white\"}, \"yaxis\": {\"backgroundcolor\": \"#E5ECF6\", \"gridcolor\": \"white\", \"gridwidth\": 2, \"linecolor\": \"white\", \"showbackground\": true, \"ticks\": \"\", \"zerolinecolor\": \"white\"}, \"zaxis\": {\"backgroundcolor\": \"#E5ECF6\", \"gridcolor\": \"white\", \"gridwidth\": 2, \"linecolor\": \"white\", \"showbackground\": true, \"ticks\": \"\", \"zerolinecolor\": \"white\"}}, \"shapedefaults\": {\"line\": {\"color\": \"#2a3f5f\"}}, \"ternary\": {\"aaxis\": {\"gridcolor\": \"white\", \"linecolor\": \"white\", \"ticks\": \"\"}, \"baxis\": {\"gridcolor\": \"white\", \"linecolor\": \"white\", \"ticks\": \"\"}, \"bgcolor\": \"#E5ECF6\", \"caxis\": {\"gridcolor\": \"white\", \"linecolor\": \"white\", \"ticks\": \"\"}}, \"title\": {\"x\": 0.05}, \"xaxis\": {\"automargin\": true, \"gridcolor\": \"white\", \"linecolor\": \"white\", \"ticks\": \"\", \"zerolinecolor\": \"white\", \"zerolinewidth\": 2}, \"yaxis\": {\"automargin\": true, \"gridcolor\": \"white\", \"linecolor\": \"white\", \"ticks\": \"\", \"zerolinecolor\": \"white\", \"zerolinewidth\": 2}}}, \"title\": {\"text\": \"Gantt Chart\"}, \"width\": 900, \"xaxis\": {\"rangeselector\": {\"buttons\": [{\"count\": 7, \"label\": \"1w\", \"step\": \"day\", \"stepmode\": \"backward\"}, {\"count\": 1, \"label\": \"1m\", \"step\": \"month\", \"stepmode\": \"backward\"}, {\"count\": 6, \"label\": \"6m\", \"step\": \"month\", \"stepmode\": \"backward\"}, {\"count\": 1, \"label\": \"YTD\", \"step\": \"year\", \"stepmode\": \"todate\"}, {\"count\": 1, \"label\": \"1y\", \"step\": \"year\", \"stepmode\": \"backward\"}, {\"step\": \"all\"}]}, \"showgrid\": false, \"type\": \"date\", \"zeroline\": false}, \"yaxis\": {\"autorange\": false, \"range\": [-1, 83], \"showgrid\": false, \"ticktext\": [\"UKAfghanistan\", \"FAlgeria\", \"PAngola\", \"UKBahrain\", \"UKBangladesh\", \"FBenin\", \"UKBhutan\", \"UKBotswana\", \"FBurkina Faso\", \"GBurundi\", \"GCameroon\", \"FCentral Afr. Rep\", \"FChad\", \"semicol.China\", \"FCongo\", \"FDjibouti\", \"FEgypt\", \"PEquatorial Guinea\", \"UKEthiopia\", \"UKFiji\", \"FGabon\", \"UKGambia\", \"UKGhana\", \"FGuinea\", \"PGuinea-Bissau\", \"UKIndia\", \"NLIndonesia\", \"UKIran\", \"UKIraq\", \"FIvory Coast\", \"semicol.Japan\", \"UKJordan\", \"FCambodia\", \"PKenya\", \"JPKorea, N\", \"JPKorea, S\", \"UKKuwait\", \"FLaos\", \"FLebanon\", \"UKLesotho\", \"USALiberia\", \"ILibya\", \"FMalagasy\", \"UKMalawi\", \"PMalaysia\", \"FMali\", \"FMauritania\", \"FMorocco\", \"PMozambique\", \"UKMyarnuar/Burma\", \"UKNepal\", \"FNiger\", \"UKNigeria\", \"POman\", \"UKPakistan\", \"GPapua N Guinea\", \"SPPhilippines\", \"UKQatar\", \"GRwanda\", \"UKSaudi Arabia\", \"FSenegal\", \"UKSierra L\", \"UKSolomon Islands\", \"PSomalia\", \"NLSouth Africa\", \"UKSri Lanka\", \"UKSudan\", \"settlerSwaziland\", \"FSyria\", \"NLTaiwan\", \"PTanzania\", \"semicol.Thailand\", \"GTogo\", \"FTunisia\", \"semicol.Turkey\", \"UKUganda\", \"UKUAE\", \"UKVanuatu\", \"FVietnam\", \"BZaire\", \"UKZambia\", \"PZimbabwe\"], \"tickvals\": [0, 1, 2, 3, 4, 5, 6, 7, 8, 9, 10, 11, 12, 13, 14, 15, 16, 17, 18, 19, 20, 21, 22, 23, 24, 25, 26, 27, 28, 29, 30, 31, 32, 33, 34, 35, 36, 37, 38, 39, 40, 41, 42, 43, 44, 45, 46, 47, 48, 49, 50, 51, 52, 53, 54, 55, 56, 57, 58, 59, 60, 61, 62, 63, 64, 65, 66, 67, 68, 69, 70, 71, 72, 73, 74, 75, 76, 77, 78, 79, 80, 81], \"zeroline\": false}},\n",
       "                        {\"responsive\": true}\n",
       "                    ).then(function(){\n",
       "                            \n",
       "var gd = document.getElementById('aec1cb8e-b3b2-4293-93ae-5bf6df2e09df');\n",
       "var x = new MutationObserver(function (mutations, observer) {{\n",
       "        var display = window.getComputedStyle(gd).display;\n",
       "        if (!display || display === 'none') {{\n",
       "            console.log([gd, 'removed!']);\n",
       "            Plotly.purge(gd);\n",
       "            observer.disconnect();\n",
       "        }}\n",
       "}});\n",
       "\n",
       "// Listen for the removal of the full notebook cells\n",
       "var notebookContainer = gd.closest('#notebook-container');\n",
       "if (notebookContainer) {{\n",
       "    x.observe(notebookContainer, {childList: true});\n",
       "}}\n",
       "\n",
       "// Listen for the clearing of the current output cell\n",
       "var outputEl = gd.closest('.output');\n",
       "if (outputEl) {{\n",
       "    x.observe(outputEl, {childList: true});\n",
       "}}\n",
       "\n",
       "                        })\n",
       "                };\n",
       "                });\n",
       "            </script>\n",
       "        </div>"
      ]
     },
     "metadata": {},
     "output_type": "display_data"
    }
   ],
   "source": [
    "fig = ff.create_gantt(df_gantt, colors=colors, show_colorbar=True, index_col='mcp_start')\n",
    "fig.show()"
   ]
  },
  {
   "cell_type": "code",
   "execution_count": 199,
   "metadata": {},
   "outputs": [
    {
     "data": {
      "application/vnd.plotly.v1+json": {
       "config": {
        "plotlyServerURL": "https://plot.ly"
       },
       "data": [
        {
         "fill": "toself",
         "fillcolor": "rgb(103.80000000000001, 153.75, 136.75)",
         "hoverinfo": "name",
         "legendgroup": "rgb(103.80000000000001, 153.75, 136.75)",
         "mode": "none",
         "name": "55",
         "showlegend": false,
         "type": "scatter",
         "x": [
          "2009-03-05",
          "2009-04-15",
          "2009-04-15",
          "2009-03-05"
         ],
         "y": [
          0.8,
          0.8,
          1.2,
          1.2
         ]
        },
        {
         "fill": "toself",
         "fillcolor": "rgb(144.12, 223.04999999999998, 189.25)",
         "hoverinfo": "name",
         "legendgroup": "rgb(144.12, 223.04999999999998, 189.25)",
         "mode": "none",
         "name": "97",
         "showlegend": false,
         "type": "scatter",
         "x": [
          "2009-02-20 12:40:00",
          "2009-05-30 15:12:44",
          "2009-05-30 15:12:44",
          "2009-02-20 12:40:00"
         ],
         "y": [
          1.8,
          1.8,
          2.2,
          2.2
         ]
        },
        {
         "fill": "toself",
         "fillcolor": "rgb(61.56, 81.15, 81.75)",
         "hoverinfo": "name",
         "legendgroup": "rgb(61.56, 81.15, 81.75)",
         "mode": "none",
         "name": "11",
         "showlegend": false,
         "type": "scatter",
         "x": [
          "2009-03-10",
          "2009-04-30",
          "2009-04-30",
          "2009-03-10"
         ],
         "y": [
          2.8,
          2.8,
          3.2,
          3.2
         ]
        },
        {
         "fill": "toself",
         "fillcolor": "rgb(64.44, 86.1, 85.5)",
         "hoverinfo": "name",
         "legendgroup": "rgb(64.44, 86.1, 85.5)",
         "mode": "none",
         "name": "14",
         "showlegend": false,
         "type": "scatter",
         "x": [
          "2009-02-25",
          "2009-06-30",
          "2009-06-30",
          "2009-02-25"
         ],
         "y": [
          3.8,
          3.8,
          4.2,
          4.2
         ]
        },
        {
         "fill": "toself",
         "fillcolor": "rgb(73.08, 100.95, 96.75)",
         "hoverinfo": "name",
         "legendgroup": "rgb(73.08, 100.95, 96.75)",
         "mode": "none",
         "name": "23",
         "showlegend": false,
         "type": "scatter",
         "x": [
          "2009-01-01",
          "2009-02-26",
          "2009-02-26",
          "2009-01-01"
         ],
         "y": [
          -0.2,
          -0.2,
          0.2,
          0.2
         ]
        },
        {
         "legendgroup": "rgb(103.80000000000001, 153.75, 136.75)",
         "marker": {
          "color": "rgb(103.80000000000001, 153.75, 136.75)",
          "opacity": 0,
          "size": 1
         },
         "mode": "markers",
         "name": "",
         "showlegend": false,
         "text": [
          null,
          null
         ],
         "type": "scatter",
         "x": [
          "2009-03-05",
          "2009-04-15"
         ],
         "y": [
          1,
          1
         ]
        },
        {
         "legendgroup": "rgb(144.12, 223.04999999999998, 189.25)",
         "marker": {
          "color": "rgb(144.12, 223.04999999999998, 189.25)",
          "opacity": 0,
          "size": 1
         },
         "mode": "markers",
         "name": "",
         "showlegend": false,
         "text": [
          null,
          null
         ],
         "type": "scatter",
         "x": [
          "2009-02-20 12:40:00",
          "2009-05-30 15:12:44"
         ],
         "y": [
          2,
          2
         ]
        },
        {
         "legendgroup": "rgb(61.56, 81.15, 81.75)",
         "marker": {
          "color": "rgb(61.56, 81.15, 81.75)",
          "opacity": 0,
          "size": 1
         },
         "mode": "markers",
         "name": "",
         "showlegend": false,
         "text": [
          null,
          null
         ],
         "type": "scatter",
         "x": [
          "2009-03-10",
          "2009-04-30"
         ],
         "y": [
          3,
          3
         ]
        },
        {
         "legendgroup": "rgb(64.44, 86.1, 85.5)",
         "marker": {
          "color": "rgb(64.44, 86.1, 85.5)",
          "opacity": 0,
          "size": 1
         },
         "mode": "markers",
         "name": "",
         "showlegend": false,
         "text": [
          null,
          null
         ],
         "type": "scatter",
         "x": [
          "2009-02-25",
          "2009-06-30"
         ],
         "y": [
          4,
          4
         ]
        },
        {
         "legendgroup": "rgb(73.08, 100.95, 96.75)",
         "marker": {
          "cmax": 100,
          "cmin": 0,
          "color": "rgb(73.08, 100.95, 96.75)",
          "colorscale": [
           [
            0,
            "rgb(51.0, 63.0, 68.0)"
           ],
           [
            1,
            "rgb(147.0, 228.0, 193.0)"
           ]
          ],
          "opacity": 0,
          "showscale": true,
          "size": 1
         },
         "mode": "markers",
         "name": "",
         "showlegend": false,
         "text": [
          null,
          null
         ],
         "type": "scatter",
         "x": [
          "2009-01-01",
          "2009-02-26"
         ],
         "y": [
          0,
          0
         ]
        }
       ],
       "layout": {
        "height": 600,
        "hovermode": "closest",
        "showlegend": false,
        "template": {
         "data": {
          "bar": [
           {
            "error_x": {
             "color": "#2a3f5f"
            },
            "error_y": {
             "color": "#2a3f5f"
            },
            "marker": {
             "line": {
              "color": "#E5ECF6",
              "width": 0.5
             }
            },
            "type": "bar"
           }
          ],
          "barpolar": [
           {
            "marker": {
             "line": {
              "color": "#E5ECF6",
              "width": 0.5
             }
            },
            "type": "barpolar"
           }
          ],
          "carpet": [
           {
            "aaxis": {
             "endlinecolor": "#2a3f5f",
             "gridcolor": "white",
             "linecolor": "white",
             "minorgridcolor": "white",
             "startlinecolor": "#2a3f5f"
            },
            "baxis": {
             "endlinecolor": "#2a3f5f",
             "gridcolor": "white",
             "linecolor": "white",
             "minorgridcolor": "white",
             "startlinecolor": "#2a3f5f"
            },
            "type": "carpet"
           }
          ],
          "choropleth": [
           {
            "colorbar": {
             "outlinewidth": 0,
             "ticks": ""
            },
            "type": "choropleth"
           }
          ],
          "contour": [
           {
            "colorbar": {
             "outlinewidth": 0,
             "ticks": ""
            },
            "colorscale": [
             [
              0,
              "#0d0887"
             ],
             [
              0.1111111111111111,
              "#46039f"
             ],
             [
              0.2222222222222222,
              "#7201a8"
             ],
             [
              0.3333333333333333,
              "#9c179e"
             ],
             [
              0.4444444444444444,
              "#bd3786"
             ],
             [
              0.5555555555555556,
              "#d8576b"
             ],
             [
              0.6666666666666666,
              "#ed7953"
             ],
             [
              0.7777777777777778,
              "#fb9f3a"
             ],
             [
              0.8888888888888888,
              "#fdca26"
             ],
             [
              1,
              "#f0f921"
             ]
            ],
            "type": "contour"
           }
          ],
          "contourcarpet": [
           {
            "colorbar": {
             "outlinewidth": 0,
             "ticks": ""
            },
            "type": "contourcarpet"
           }
          ],
          "heatmap": [
           {
            "colorbar": {
             "outlinewidth": 0,
             "ticks": ""
            },
            "colorscale": [
             [
              0,
              "#0d0887"
             ],
             [
              0.1111111111111111,
              "#46039f"
             ],
             [
              0.2222222222222222,
              "#7201a8"
             ],
             [
              0.3333333333333333,
              "#9c179e"
             ],
             [
              0.4444444444444444,
              "#bd3786"
             ],
             [
              0.5555555555555556,
              "#d8576b"
             ],
             [
              0.6666666666666666,
              "#ed7953"
             ],
             [
              0.7777777777777778,
              "#fb9f3a"
             ],
             [
              0.8888888888888888,
              "#fdca26"
             ],
             [
              1,
              "#f0f921"
             ]
            ],
            "type": "heatmap"
           }
          ],
          "heatmapgl": [
           {
            "colorbar": {
             "outlinewidth": 0,
             "ticks": ""
            },
            "colorscale": [
             [
              0,
              "#0d0887"
             ],
             [
              0.1111111111111111,
              "#46039f"
             ],
             [
              0.2222222222222222,
              "#7201a8"
             ],
             [
              0.3333333333333333,
              "#9c179e"
             ],
             [
              0.4444444444444444,
              "#bd3786"
             ],
             [
              0.5555555555555556,
              "#d8576b"
             ],
             [
              0.6666666666666666,
              "#ed7953"
             ],
             [
              0.7777777777777778,
              "#fb9f3a"
             ],
             [
              0.8888888888888888,
              "#fdca26"
             ],
             [
              1,
              "#f0f921"
             ]
            ],
            "type": "heatmapgl"
           }
          ],
          "histogram": [
           {
            "marker": {
             "colorbar": {
              "outlinewidth": 0,
              "ticks": ""
             }
            },
            "type": "histogram"
           }
          ],
          "histogram2d": [
           {
            "colorbar": {
             "outlinewidth": 0,
             "ticks": ""
            },
            "colorscale": [
             [
              0,
              "#0d0887"
             ],
             [
              0.1111111111111111,
              "#46039f"
             ],
             [
              0.2222222222222222,
              "#7201a8"
             ],
             [
              0.3333333333333333,
              "#9c179e"
             ],
             [
              0.4444444444444444,
              "#bd3786"
             ],
             [
              0.5555555555555556,
              "#d8576b"
             ],
             [
              0.6666666666666666,
              "#ed7953"
             ],
             [
              0.7777777777777778,
              "#fb9f3a"
             ],
             [
              0.8888888888888888,
              "#fdca26"
             ],
             [
              1,
              "#f0f921"
             ]
            ],
            "type": "histogram2d"
           }
          ],
          "histogram2dcontour": [
           {
            "colorbar": {
             "outlinewidth": 0,
             "ticks": ""
            },
            "colorscale": [
             [
              0,
              "#0d0887"
             ],
             [
              0.1111111111111111,
              "#46039f"
             ],
             [
              0.2222222222222222,
              "#7201a8"
             ],
             [
              0.3333333333333333,
              "#9c179e"
             ],
             [
              0.4444444444444444,
              "#bd3786"
             ],
             [
              0.5555555555555556,
              "#d8576b"
             ],
             [
              0.6666666666666666,
              "#ed7953"
             ],
             [
              0.7777777777777778,
              "#fb9f3a"
             ],
             [
              0.8888888888888888,
              "#fdca26"
             ],
             [
              1,
              "#f0f921"
             ]
            ],
            "type": "histogram2dcontour"
           }
          ],
          "mesh3d": [
           {
            "colorbar": {
             "outlinewidth": 0,
             "ticks": ""
            },
            "type": "mesh3d"
           }
          ],
          "parcoords": [
           {
            "line": {
             "colorbar": {
              "outlinewidth": 0,
              "ticks": ""
             }
            },
            "type": "parcoords"
           }
          ],
          "scatter": [
           {
            "marker": {
             "colorbar": {
              "outlinewidth": 0,
              "ticks": ""
             }
            },
            "type": "scatter"
           }
          ],
          "scatter3d": [
           {
            "line": {
             "colorbar": {
              "outlinewidth": 0,
              "ticks": ""
             }
            },
            "marker": {
             "colorbar": {
              "outlinewidth": 0,
              "ticks": ""
             }
            },
            "type": "scatter3d"
           }
          ],
          "scattercarpet": [
           {
            "marker": {
             "colorbar": {
              "outlinewidth": 0,
              "ticks": ""
             }
            },
            "type": "scattercarpet"
           }
          ],
          "scattergeo": [
           {
            "marker": {
             "colorbar": {
              "outlinewidth": 0,
              "ticks": ""
             }
            },
            "type": "scattergeo"
           }
          ],
          "scattergl": [
           {
            "marker": {
             "colorbar": {
              "outlinewidth": 0,
              "ticks": ""
             }
            },
            "type": "scattergl"
           }
          ],
          "scattermapbox": [
           {
            "marker": {
             "colorbar": {
              "outlinewidth": 0,
              "ticks": ""
             }
            },
            "type": "scattermapbox"
           }
          ],
          "scatterpolar": [
           {
            "marker": {
             "colorbar": {
              "outlinewidth": 0,
              "ticks": ""
             }
            },
            "type": "scatterpolar"
           }
          ],
          "scatterpolargl": [
           {
            "marker": {
             "colorbar": {
              "outlinewidth": 0,
              "ticks": ""
             }
            },
            "type": "scatterpolargl"
           }
          ],
          "scatterternary": [
           {
            "marker": {
             "colorbar": {
              "outlinewidth": 0,
              "ticks": ""
             }
            },
            "type": "scatterternary"
           }
          ],
          "surface": [
           {
            "colorbar": {
             "outlinewidth": 0,
             "ticks": ""
            },
            "colorscale": [
             [
              0,
              "#0d0887"
             ],
             [
              0.1111111111111111,
              "#46039f"
             ],
             [
              0.2222222222222222,
              "#7201a8"
             ],
             [
              0.3333333333333333,
              "#9c179e"
             ],
             [
              0.4444444444444444,
              "#bd3786"
             ],
             [
              0.5555555555555556,
              "#d8576b"
             ],
             [
              0.6666666666666666,
              "#ed7953"
             ],
             [
              0.7777777777777778,
              "#fb9f3a"
             ],
             [
              0.8888888888888888,
              "#fdca26"
             ],
             [
              1,
              "#f0f921"
             ]
            ],
            "type": "surface"
           }
          ],
          "table": [
           {
            "cells": {
             "fill": {
              "color": "#EBF0F8"
             },
             "line": {
              "color": "white"
             }
            },
            "header": {
             "fill": {
              "color": "#C8D4E3"
             },
             "line": {
              "color": "white"
             }
            },
            "type": "table"
           }
          ]
         },
         "layout": {
          "annotationdefaults": {
           "arrowcolor": "#2a3f5f",
           "arrowhead": 0,
           "arrowwidth": 1
          },
          "colorscale": {
           "diverging": [
            [
             0,
             "#8e0152"
            ],
            [
             0.1,
             "#c51b7d"
            ],
            [
             0.2,
             "#de77ae"
            ],
            [
             0.3,
             "#f1b6da"
            ],
            [
             0.4,
             "#fde0ef"
            ],
            [
             0.5,
             "#f7f7f7"
            ],
            [
             0.6,
             "#e6f5d0"
            ],
            [
             0.7,
             "#b8e186"
            ],
            [
             0.8,
             "#7fbc41"
            ],
            [
             0.9,
             "#4d9221"
            ],
            [
             1,
             "#276419"
            ]
           ],
           "sequential": [
            [
             0,
             "#0d0887"
            ],
            [
             0.1111111111111111,
             "#46039f"
            ],
            [
             0.2222222222222222,
             "#7201a8"
            ],
            [
             0.3333333333333333,
             "#9c179e"
            ],
            [
             0.4444444444444444,
             "#bd3786"
            ],
            [
             0.5555555555555556,
             "#d8576b"
            ],
            [
             0.6666666666666666,
             "#ed7953"
            ],
            [
             0.7777777777777778,
             "#fb9f3a"
            ],
            [
             0.8888888888888888,
             "#fdca26"
            ],
            [
             1,
             "#f0f921"
            ]
           ],
           "sequentialminus": [
            [
             0,
             "#0d0887"
            ],
            [
             0.1111111111111111,
             "#46039f"
            ],
            [
             0.2222222222222222,
             "#7201a8"
            ],
            [
             0.3333333333333333,
             "#9c179e"
            ],
            [
             0.4444444444444444,
             "#bd3786"
            ],
            [
             0.5555555555555556,
             "#d8576b"
            ],
            [
             0.6666666666666666,
             "#ed7953"
            ],
            [
             0.7777777777777778,
             "#fb9f3a"
            ],
            [
             0.8888888888888888,
             "#fdca26"
            ],
            [
             1,
             "#f0f921"
            ]
           ]
          },
          "colorway": [
           "#636efa",
           "#EF553B",
           "#00cc96",
           "#ab63fa",
           "#FFA15A",
           "#19d3f3",
           "#FF6692",
           "#B6E880",
           "#FF97FF",
           "#FECB52"
          ],
          "font": {
           "color": "#2a3f5f"
          },
          "geo": {
           "bgcolor": "white",
           "lakecolor": "white",
           "landcolor": "#E5ECF6",
           "showlakes": true,
           "showland": true,
           "subunitcolor": "white"
          },
          "hoverlabel": {
           "align": "left"
          },
          "hovermode": "closest",
          "mapbox": {
           "style": "light"
          },
          "paper_bgcolor": "white",
          "plot_bgcolor": "#E5ECF6",
          "polar": {
           "angularaxis": {
            "gridcolor": "white",
            "linecolor": "white",
            "ticks": ""
           },
           "bgcolor": "#E5ECF6",
           "radialaxis": {
            "gridcolor": "white",
            "linecolor": "white",
            "ticks": ""
           }
          },
          "scene": {
           "xaxis": {
            "backgroundcolor": "#E5ECF6",
            "gridcolor": "white",
            "gridwidth": 2,
            "linecolor": "white",
            "showbackground": true,
            "ticks": "",
            "zerolinecolor": "white"
           },
           "yaxis": {
            "backgroundcolor": "#E5ECF6",
            "gridcolor": "white",
            "gridwidth": 2,
            "linecolor": "white",
            "showbackground": true,
            "ticks": "",
            "zerolinecolor": "white"
           },
           "zaxis": {
            "backgroundcolor": "#E5ECF6",
            "gridcolor": "white",
            "gridwidth": 2,
            "linecolor": "white",
            "showbackground": true,
            "ticks": "",
            "zerolinecolor": "white"
           }
          },
          "shapedefaults": {
           "line": {
            "color": "#2a3f5f"
           }
          },
          "ternary": {
           "aaxis": {
            "gridcolor": "white",
            "linecolor": "white",
            "ticks": ""
           },
           "baxis": {
            "gridcolor": "white",
            "linecolor": "white",
            "ticks": ""
           },
           "bgcolor": "#E5ECF6",
           "caxis": {
            "gridcolor": "white",
            "linecolor": "white",
            "ticks": ""
           }
          },
          "title": {
           "x": 0.05
          },
          "xaxis": {
           "automargin": true,
           "gridcolor": "white",
           "linecolor": "white",
           "ticks": "",
           "zerolinecolor": "white",
           "zerolinewidth": 2
          },
          "yaxis": {
           "automargin": true,
           "gridcolor": "white",
           "linecolor": "white",
           "ticks": "",
           "zerolinecolor": "white",
           "zerolinewidth": 2
          }
         }
        },
        "title": {
         "text": "Gantt Chart"
        },
        "width": 900,
        "xaxis": {
         "rangeselector": {
          "buttons": [
           {
            "count": 7,
            "label": "1w",
            "step": "day",
            "stepmode": "backward"
           },
           {
            "count": 1,
            "label": "1m",
            "step": "month",
            "stepmode": "backward"
           },
           {
            "count": 6,
            "label": "6m",
            "step": "month",
            "stepmode": "backward"
           },
           {
            "count": 1,
            "label": "YTD",
            "step": "year",
            "stepmode": "todate"
           },
           {
            "count": 1,
            "label": "1y",
            "step": "year",
            "stepmode": "backward"
           },
           {
            "step": "all"
           }
          ]
         },
         "showgrid": true,
         "type": "date",
         "zeroline": false
        },
        "yaxis": {
         "autorange": false,
         "range": [
          -1,
          6
         ],
         "showgrid": true,
         "ticktext": [
          "Job A",
          "Job B",
          "Job C",
          "Job D",
          "Job E"
         ],
         "tickvals": [
          0,
          1,
          2,
          3,
          4
         ],
         "zeroline": false
        }
       }
      },
      "text/html": [
       "<div>\n",
       "        \n",
       "        \n",
       "            <div id=\"50568f3b-99d8-4713-9172-f922a2f33427\" class=\"plotly-graph-div\" style=\"height:600px; width:900px;\"></div>\n",
       "            <script type=\"text/javascript\">\n",
       "                require([\"plotly\"], function(Plotly) {\n",
       "                    window.PLOTLYENV=window.PLOTLYENV || {};\n",
       "                    \n",
       "                if (document.getElementById(\"50568f3b-99d8-4713-9172-f922a2f33427\")) {\n",
       "                    Plotly.newPlot(\n",
       "                        '50568f3b-99d8-4713-9172-f922a2f33427',\n",
       "                        [{\"fill\": \"toself\", \"fillcolor\": \"rgb(103.80000000000001, 153.75, 136.75)\", \"hoverinfo\": \"name\", \"legendgroup\": \"rgb(103.80000000000001, 153.75, 136.75)\", \"mode\": \"none\", \"name\": \"55\", \"showlegend\": false, \"type\": \"scatter\", \"x\": [\"2009-03-05\", \"2009-04-15\", \"2009-04-15\", \"2009-03-05\"], \"y\": [0.8, 0.8, 1.2, 1.2]}, {\"fill\": \"toself\", \"fillcolor\": \"rgb(144.12, 223.04999999999998, 189.25)\", \"hoverinfo\": \"name\", \"legendgroup\": \"rgb(144.12, 223.04999999999998, 189.25)\", \"mode\": \"none\", \"name\": \"97\", \"showlegend\": false, \"type\": \"scatter\", \"x\": [\"2009-02-20 12:40:00\", \"2009-05-30 15:12:44\", \"2009-05-30 15:12:44\", \"2009-02-20 12:40:00\"], \"y\": [1.8, 1.8, 2.2, 2.2]}, {\"fill\": \"toself\", \"fillcolor\": \"rgb(61.56, 81.15, 81.75)\", \"hoverinfo\": \"name\", \"legendgroup\": \"rgb(61.56, 81.15, 81.75)\", \"mode\": \"none\", \"name\": \"11\", \"showlegend\": false, \"type\": \"scatter\", \"x\": [\"2009-03-10\", \"2009-04-30\", \"2009-04-30\", \"2009-03-10\"], \"y\": [2.8, 2.8, 3.2, 3.2]}, {\"fill\": \"toself\", \"fillcolor\": \"rgb(64.44, 86.1, 85.5)\", \"hoverinfo\": \"name\", \"legendgroup\": \"rgb(64.44, 86.1, 85.5)\", \"mode\": \"none\", \"name\": \"14\", \"showlegend\": false, \"type\": \"scatter\", \"x\": [\"2009-02-25\", \"2009-06-30\", \"2009-06-30\", \"2009-02-25\"], \"y\": [3.8, 3.8, 4.2, 4.2]}, {\"fill\": \"toself\", \"fillcolor\": \"rgb(73.08, 100.95, 96.75)\", \"hoverinfo\": \"name\", \"legendgroup\": \"rgb(73.08, 100.95, 96.75)\", \"mode\": \"none\", \"name\": \"23\", \"showlegend\": false, \"type\": \"scatter\", \"x\": [\"2009-01-01\", \"2009-02-26\", \"2009-02-26\", \"2009-01-01\"], \"y\": [-0.2, -0.2, 0.2, 0.2]}, {\"legendgroup\": \"rgb(103.80000000000001, 153.75, 136.75)\", \"marker\": {\"color\": \"rgb(103.80000000000001, 153.75, 136.75)\", \"opacity\": 0, \"size\": 1}, \"mode\": \"markers\", \"name\": \"\", \"showlegend\": false, \"text\": [null, null], \"type\": \"scatter\", \"x\": [\"2009-03-05\", \"2009-04-15\"], \"y\": [1, 1]}, {\"legendgroup\": \"rgb(144.12, 223.04999999999998, 189.25)\", \"marker\": {\"color\": \"rgb(144.12, 223.04999999999998, 189.25)\", \"opacity\": 0, \"size\": 1}, \"mode\": \"markers\", \"name\": \"\", \"showlegend\": false, \"text\": [null, null], \"type\": \"scatter\", \"x\": [\"2009-02-20 12:40:00\", \"2009-05-30 15:12:44\"], \"y\": [2, 2]}, {\"legendgroup\": \"rgb(61.56, 81.15, 81.75)\", \"marker\": {\"color\": \"rgb(61.56, 81.15, 81.75)\", \"opacity\": 0, \"size\": 1}, \"mode\": \"markers\", \"name\": \"\", \"showlegend\": false, \"text\": [null, null], \"type\": \"scatter\", \"x\": [\"2009-03-10\", \"2009-04-30\"], \"y\": [3, 3]}, {\"legendgroup\": \"rgb(64.44, 86.1, 85.5)\", \"marker\": {\"color\": \"rgb(64.44, 86.1, 85.5)\", \"opacity\": 0, \"size\": 1}, \"mode\": \"markers\", \"name\": \"\", \"showlegend\": false, \"text\": [null, null], \"type\": \"scatter\", \"x\": [\"2009-02-25\", \"2009-06-30\"], \"y\": [4, 4]}, {\"legendgroup\": \"rgb(73.08, 100.95, 96.75)\", \"marker\": {\"cmax\": 100, \"cmin\": 0, \"color\": \"rgb(73.08, 100.95, 96.75)\", \"colorscale\": [[0, \"rgb(51.0, 63.0, 68.0)\"], [1, \"rgb(147.0, 228.0, 193.0)\"]], \"opacity\": 0, \"showscale\": true, \"size\": 1}, \"mode\": \"markers\", \"name\": \"\", \"showlegend\": false, \"text\": [null, null], \"type\": \"scatter\", \"x\": [\"2009-01-01\", \"2009-02-26\"], \"y\": [0, 0]}],\n",
       "                        {\"height\": 600, \"hovermode\": \"closest\", \"showlegend\": false, \"template\": {\"data\": {\"bar\": [{\"error_x\": {\"color\": \"#2a3f5f\"}, \"error_y\": {\"color\": \"#2a3f5f\"}, \"marker\": {\"line\": {\"color\": \"#E5ECF6\", \"width\": 0.5}}, \"type\": \"bar\"}], \"barpolar\": [{\"marker\": {\"line\": {\"color\": \"#E5ECF6\", \"width\": 0.5}}, \"type\": \"barpolar\"}], \"carpet\": [{\"aaxis\": {\"endlinecolor\": \"#2a3f5f\", \"gridcolor\": \"white\", \"linecolor\": \"white\", \"minorgridcolor\": \"white\", \"startlinecolor\": \"#2a3f5f\"}, \"baxis\": {\"endlinecolor\": \"#2a3f5f\", \"gridcolor\": \"white\", \"linecolor\": \"white\", \"minorgridcolor\": \"white\", \"startlinecolor\": \"#2a3f5f\"}, \"type\": \"carpet\"}], \"choropleth\": [{\"colorbar\": {\"outlinewidth\": 0, \"ticks\": \"\"}, \"type\": \"choropleth\"}], \"contour\": [{\"colorbar\": {\"outlinewidth\": 0, \"ticks\": \"\"}, \"colorscale\": [[0.0, \"#0d0887\"], [0.1111111111111111, \"#46039f\"], [0.2222222222222222, \"#7201a8\"], [0.3333333333333333, \"#9c179e\"], [0.4444444444444444, \"#bd3786\"], [0.5555555555555556, \"#d8576b\"], [0.6666666666666666, \"#ed7953\"], [0.7777777777777778, \"#fb9f3a\"], [0.8888888888888888, \"#fdca26\"], [1.0, \"#f0f921\"]], \"type\": \"contour\"}], \"contourcarpet\": [{\"colorbar\": {\"outlinewidth\": 0, \"ticks\": \"\"}, \"type\": \"contourcarpet\"}], \"heatmap\": [{\"colorbar\": {\"outlinewidth\": 0, \"ticks\": \"\"}, \"colorscale\": [[0.0, \"#0d0887\"], [0.1111111111111111, \"#46039f\"], [0.2222222222222222, \"#7201a8\"], [0.3333333333333333, \"#9c179e\"], [0.4444444444444444, \"#bd3786\"], [0.5555555555555556, \"#d8576b\"], [0.6666666666666666, \"#ed7953\"], [0.7777777777777778, \"#fb9f3a\"], [0.8888888888888888, \"#fdca26\"], [1.0, \"#f0f921\"]], \"type\": \"heatmap\"}], \"heatmapgl\": [{\"colorbar\": {\"outlinewidth\": 0, \"ticks\": \"\"}, \"colorscale\": [[0.0, \"#0d0887\"], [0.1111111111111111, \"#46039f\"], [0.2222222222222222, \"#7201a8\"], [0.3333333333333333, \"#9c179e\"], [0.4444444444444444, \"#bd3786\"], [0.5555555555555556, \"#d8576b\"], [0.6666666666666666, \"#ed7953\"], [0.7777777777777778, \"#fb9f3a\"], [0.8888888888888888, \"#fdca26\"], [1.0, \"#f0f921\"]], \"type\": \"heatmapgl\"}], \"histogram\": [{\"marker\": {\"colorbar\": {\"outlinewidth\": 0, \"ticks\": \"\"}}, \"type\": \"histogram\"}], \"histogram2d\": [{\"colorbar\": {\"outlinewidth\": 0, \"ticks\": \"\"}, \"colorscale\": [[0.0, \"#0d0887\"], [0.1111111111111111, \"#46039f\"], [0.2222222222222222, \"#7201a8\"], [0.3333333333333333, \"#9c179e\"], [0.4444444444444444, \"#bd3786\"], [0.5555555555555556, \"#d8576b\"], [0.6666666666666666, \"#ed7953\"], [0.7777777777777778, \"#fb9f3a\"], [0.8888888888888888, \"#fdca26\"], [1.0, \"#f0f921\"]], \"type\": \"histogram2d\"}], \"histogram2dcontour\": [{\"colorbar\": {\"outlinewidth\": 0, \"ticks\": \"\"}, \"colorscale\": [[0.0, \"#0d0887\"], [0.1111111111111111, \"#46039f\"], [0.2222222222222222, \"#7201a8\"], [0.3333333333333333, \"#9c179e\"], [0.4444444444444444, \"#bd3786\"], [0.5555555555555556, \"#d8576b\"], [0.6666666666666666, \"#ed7953\"], [0.7777777777777778, \"#fb9f3a\"], [0.8888888888888888, \"#fdca26\"], [1.0, \"#f0f921\"]], \"type\": \"histogram2dcontour\"}], \"mesh3d\": [{\"colorbar\": {\"outlinewidth\": 0, \"ticks\": \"\"}, \"type\": \"mesh3d\"}], \"parcoords\": [{\"line\": {\"colorbar\": {\"outlinewidth\": 0, \"ticks\": \"\"}}, \"type\": \"parcoords\"}], \"scatter\": [{\"marker\": {\"colorbar\": {\"outlinewidth\": 0, \"ticks\": \"\"}}, \"type\": \"scatter\"}], \"scatter3d\": [{\"line\": {\"colorbar\": {\"outlinewidth\": 0, \"ticks\": \"\"}}, \"marker\": {\"colorbar\": {\"outlinewidth\": 0, \"ticks\": \"\"}}, \"type\": \"scatter3d\"}], \"scattercarpet\": [{\"marker\": {\"colorbar\": {\"outlinewidth\": 0, \"ticks\": \"\"}}, \"type\": \"scattercarpet\"}], \"scattergeo\": [{\"marker\": {\"colorbar\": {\"outlinewidth\": 0, \"ticks\": \"\"}}, \"type\": \"scattergeo\"}], \"scattergl\": [{\"marker\": {\"colorbar\": {\"outlinewidth\": 0, \"ticks\": \"\"}}, \"type\": \"scattergl\"}], \"scattermapbox\": [{\"marker\": {\"colorbar\": {\"outlinewidth\": 0, \"ticks\": \"\"}}, \"type\": \"scattermapbox\"}], \"scatterpolar\": [{\"marker\": {\"colorbar\": {\"outlinewidth\": 0, \"ticks\": \"\"}}, \"type\": \"scatterpolar\"}], \"scatterpolargl\": [{\"marker\": {\"colorbar\": {\"outlinewidth\": 0, \"ticks\": \"\"}}, \"type\": \"scatterpolargl\"}], \"scatterternary\": [{\"marker\": {\"colorbar\": {\"outlinewidth\": 0, \"ticks\": \"\"}}, \"type\": \"scatterternary\"}], \"surface\": [{\"colorbar\": {\"outlinewidth\": 0, \"ticks\": \"\"}, \"colorscale\": [[0.0, \"#0d0887\"], [0.1111111111111111, \"#46039f\"], [0.2222222222222222, \"#7201a8\"], [0.3333333333333333, \"#9c179e\"], [0.4444444444444444, \"#bd3786\"], [0.5555555555555556, \"#d8576b\"], [0.6666666666666666, \"#ed7953\"], [0.7777777777777778, \"#fb9f3a\"], [0.8888888888888888, \"#fdca26\"], [1.0, \"#f0f921\"]], \"type\": \"surface\"}], \"table\": [{\"cells\": {\"fill\": {\"color\": \"#EBF0F8\"}, \"line\": {\"color\": \"white\"}}, \"header\": {\"fill\": {\"color\": \"#C8D4E3\"}, \"line\": {\"color\": \"white\"}}, \"type\": \"table\"}]}, \"layout\": {\"annotationdefaults\": {\"arrowcolor\": \"#2a3f5f\", \"arrowhead\": 0, \"arrowwidth\": 1}, \"colorscale\": {\"diverging\": [[0, \"#8e0152\"], [0.1, \"#c51b7d\"], [0.2, \"#de77ae\"], [0.3, \"#f1b6da\"], [0.4, \"#fde0ef\"], [0.5, \"#f7f7f7\"], [0.6, \"#e6f5d0\"], [0.7, \"#b8e186\"], [0.8, \"#7fbc41\"], [0.9, \"#4d9221\"], [1, \"#276419\"]], \"sequential\": [[0.0, \"#0d0887\"], [0.1111111111111111, \"#46039f\"], [0.2222222222222222, \"#7201a8\"], [0.3333333333333333, \"#9c179e\"], [0.4444444444444444, \"#bd3786\"], [0.5555555555555556, \"#d8576b\"], [0.6666666666666666, \"#ed7953\"], [0.7777777777777778, \"#fb9f3a\"], [0.8888888888888888, \"#fdca26\"], [1.0, \"#f0f921\"]], \"sequentialminus\": [[0.0, \"#0d0887\"], [0.1111111111111111, \"#46039f\"], [0.2222222222222222, \"#7201a8\"], [0.3333333333333333, \"#9c179e\"], [0.4444444444444444, \"#bd3786\"], [0.5555555555555556, \"#d8576b\"], [0.6666666666666666, \"#ed7953\"], [0.7777777777777778, \"#fb9f3a\"], [0.8888888888888888, \"#fdca26\"], [1.0, \"#f0f921\"]]}, \"colorway\": [\"#636efa\", \"#EF553B\", \"#00cc96\", \"#ab63fa\", \"#FFA15A\", \"#19d3f3\", \"#FF6692\", \"#B6E880\", \"#FF97FF\", \"#FECB52\"], \"font\": {\"color\": \"#2a3f5f\"}, \"geo\": {\"bgcolor\": \"white\", \"lakecolor\": \"white\", \"landcolor\": \"#E5ECF6\", \"showlakes\": true, \"showland\": true, \"subunitcolor\": \"white\"}, \"hoverlabel\": {\"align\": \"left\"}, \"hovermode\": \"closest\", \"mapbox\": {\"style\": \"light\"}, \"paper_bgcolor\": \"white\", \"plot_bgcolor\": \"#E5ECF6\", \"polar\": {\"angularaxis\": {\"gridcolor\": \"white\", \"linecolor\": \"white\", \"ticks\": \"\"}, \"bgcolor\": \"#E5ECF6\", \"radialaxis\": {\"gridcolor\": \"white\", \"linecolor\": \"white\", \"ticks\": \"\"}}, \"scene\": {\"xaxis\": {\"backgroundcolor\": \"#E5ECF6\", \"gridcolor\": \"white\", \"gridwidth\": 2, \"linecolor\": \"white\", \"showbackground\": true, \"ticks\": \"\", \"zerolinecolor\": \"white\"}, \"yaxis\": {\"backgroundcolor\": \"#E5ECF6\", \"gridcolor\": \"white\", \"gridwidth\": 2, \"linecolor\": \"white\", \"showbackground\": true, \"ticks\": \"\", \"zerolinecolor\": \"white\"}, \"zaxis\": {\"backgroundcolor\": \"#E5ECF6\", \"gridcolor\": \"white\", \"gridwidth\": 2, \"linecolor\": \"white\", \"showbackground\": true, \"ticks\": \"\", \"zerolinecolor\": \"white\"}}, \"shapedefaults\": {\"line\": {\"color\": \"#2a3f5f\"}}, \"ternary\": {\"aaxis\": {\"gridcolor\": \"white\", \"linecolor\": \"white\", \"ticks\": \"\"}, \"baxis\": {\"gridcolor\": \"white\", \"linecolor\": \"white\", \"ticks\": \"\"}, \"bgcolor\": \"#E5ECF6\", \"caxis\": {\"gridcolor\": \"white\", \"linecolor\": \"white\", \"ticks\": \"\"}}, \"title\": {\"x\": 0.05}, \"xaxis\": {\"automargin\": true, \"gridcolor\": \"white\", \"linecolor\": \"white\", \"ticks\": \"\", \"zerolinecolor\": \"white\", \"zerolinewidth\": 2}, \"yaxis\": {\"automargin\": true, \"gridcolor\": \"white\", \"linecolor\": \"white\", \"ticks\": \"\", \"zerolinecolor\": \"white\", \"zerolinewidth\": 2}}}, \"title\": {\"text\": \"Gantt Chart\"}, \"width\": 900, \"xaxis\": {\"rangeselector\": {\"buttons\": [{\"count\": 7, \"label\": \"1w\", \"step\": \"day\", \"stepmode\": \"backward\"}, {\"count\": 1, \"label\": \"1m\", \"step\": \"month\", \"stepmode\": \"backward\"}, {\"count\": 6, \"label\": \"6m\", \"step\": \"month\", \"stepmode\": \"backward\"}, {\"count\": 1, \"label\": \"YTD\", \"step\": \"year\", \"stepmode\": \"todate\"}, {\"count\": 1, \"label\": \"1y\", \"step\": \"year\", \"stepmode\": \"backward\"}, {\"step\": \"all\"}]}, \"showgrid\": true, \"type\": \"date\", \"zeroline\": false}, \"yaxis\": {\"autorange\": false, \"range\": [-1, 6], \"showgrid\": true, \"ticktext\": [\"Job A\", \"Job B\", \"Job C\", \"Job D\", \"Job E\"], \"tickvals\": [0, 1, 2, 3, 4], \"zeroline\": false}},\n",
       "                        {\"responsive\": true}\n",
       "                    ).then(function(){\n",
       "                            \n",
       "var gd = document.getElementById('50568f3b-99d8-4713-9172-f922a2f33427');\n",
       "var x = new MutationObserver(function (mutations, observer) {{\n",
       "        var display = window.getComputedStyle(gd).display;\n",
       "        if (!display || display === 'none') {{\n",
       "            console.log([gd, 'removed!']);\n",
       "            Plotly.purge(gd);\n",
       "            observer.disconnect();\n",
       "        }}\n",
       "}});\n",
       "\n",
       "// Listen for the removal of the full notebook cells\n",
       "var notebookContainer = gd.closest('#notebook-container');\n",
       "if (notebookContainer) {{\n",
       "    x.observe(notebookContainer, {childList: true});\n",
       "}}\n",
       "\n",
       "// Listen for the clearing of the current output cell\n",
       "var outputEl = gd.closest('.output');\n",
       "if (outputEl) {{\n",
       "    x.observe(outputEl, {childList: true});\n",
       "}}\n",
       "\n",
       "                        })\n",
       "                };\n",
       "                });\n",
       "            </script>\n",
       "        </div>"
      ]
     },
     "metadata": {},
     "output_type": "display_data"
    }
   ],
   "source": [
    "df_1 = pd.read_csv('https://raw.githubusercontent.com/plotly/datasets/master/gantt_example.csv')\n",
    "\n",
    "fig = ff.create_gantt(df_1, colors=['#333F44', '#93e4c1'], index_col='Complete',\n",
    "                      show_colorbar=True, bar_width=0.2, showgrid_x=True, showgrid_y=True)\n",
    "fig.show()"
   ]
  },
  {
   "cell_type": "code",
   "execution_count": 200,
   "metadata": {},
   "outputs": [
    {
     "data": {
      "text/html": [
       "<div>\n",
       "<style scoped>\n",
       "    .dataframe tbody tr th:only-of-type {\n",
       "        vertical-align: middle;\n",
       "    }\n",
       "\n",
       "    .dataframe tbody tr th {\n",
       "        vertical-align: top;\n",
       "    }\n",
       "\n",
       "    .dataframe thead th {\n",
       "        text-align: right;\n",
       "    }\n",
       "</style>\n",
       "<table border=\"1\" class=\"dataframe\">\n",
       "  <thead>\n",
       "    <tr style=\"text-align: right;\">\n",
       "      <th></th>\n",
       "      <th>Task</th>\n",
       "      <th>Start</th>\n",
       "      <th>Finish</th>\n",
       "      <th>Complete</th>\n",
       "      <th>Resource</th>\n",
       "    </tr>\n",
       "  </thead>\n",
       "  <tbody>\n",
       "    <tr>\n",
       "      <th>0</th>\n",
       "      <td>Job A</td>\n",
       "      <td>2009-01-01</td>\n",
       "      <td>2009-02-26</td>\n",
       "      <td>23</td>\n",
       "      <td>A</td>\n",
       "    </tr>\n",
       "    <tr>\n",
       "      <th>1</th>\n",
       "      <td>Job B</td>\n",
       "      <td>2009-03-05</td>\n",
       "      <td>2009-04-15</td>\n",
       "      <td>55</td>\n",
       "      <td>A</td>\n",
       "    </tr>\n",
       "    <tr>\n",
       "      <th>2</th>\n",
       "      <td>Job C</td>\n",
       "      <td>2009-02-20 12:40:00</td>\n",
       "      <td>2009-05-30 15:12:44</td>\n",
       "      <td>97</td>\n",
       "      <td>C</td>\n",
       "    </tr>\n",
       "    <tr>\n",
       "      <th>3</th>\n",
       "      <td>Job D</td>\n",
       "      <td>2009-03-10</td>\n",
       "      <td>2009-04-30</td>\n",
       "      <td>11</td>\n",
       "      <td>B</td>\n",
       "    </tr>\n",
       "    <tr>\n",
       "      <th>4</th>\n",
       "      <td>Job E</td>\n",
       "      <td>2009-02-25</td>\n",
       "      <td>2009-06-30</td>\n",
       "      <td>14</td>\n",
       "      <td>A</td>\n",
       "    </tr>\n",
       "  </tbody>\n",
       "</table>\n",
       "</div>"
      ],
      "text/plain": [
       "    Task                Start               Finish  Complete Resource\n",
       "0  Job A           2009-01-01           2009-02-26        23        A\n",
       "1  Job B           2009-03-05           2009-04-15        55        A\n",
       "2  Job C  2009-02-20 12:40:00  2009-05-30 15:12:44        97        C\n",
       "3  Job D           2009-03-10           2009-04-30        11        B\n",
       "4  Job E           2009-02-25           2009-06-30        14        A"
      ]
     },
     "execution_count": 200,
     "metadata": {},
     "output_type": "execute_result"
    }
   ],
   "source": [
    "df_1"
   ]
  },
  {
   "cell_type": "code",
   "execution_count": null,
   "metadata": {},
   "outputs": [],
   "source": []
  },
  {
   "cell_type": "code",
   "execution_count": null,
   "metadata": {},
   "outputs": [],
   "source": []
  },
  {
   "cell_type": "code",
   "execution_count": null,
   "metadata": {},
   "outputs": [],
   "source": []
  }
 ],
 "metadata": {
  "kernelspec": {
   "display_name": "Python 3",
   "language": "python",
   "name": "python3"
  },
  "language_info": {
   "codemirror_mode": {
    "name": "ipython",
    "version": 3
   },
   "file_extension": ".py",
   "mimetype": "text/x-python",
   "name": "python",
   "nbconvert_exporter": "python",
   "pygments_lexer": "ipython3",
   "version": "3.7.3"
  }
 },
 "nbformat": 4,
 "nbformat_minor": 2
}
